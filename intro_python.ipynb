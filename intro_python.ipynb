{
 "cells": [
  {
   "cell_type": "markdown",
   "id": "ffb774f5-59c6-46a7-ae45-d486c25681d5",
   "metadata": {},
   "source": [
    "# Introduction to the Python programming language\n",
    "\n",
    "Thomas Thivillon\n",
    "\n",
    "2025-09-22 \n",
    "\n",
    "# 1. Introduction\n",
    "\n",
    "This chapter provides an introduction to `Python` programming in the `JupyterLab` interactive development environment (IDE). This notebook was prepared for `Python` version 3.x.\n",
    "\n",
    "<div class=\"callout callout-tip\">\n",
    "  <div class=\"callout-header\">\n",
    "    <div class=\"callout-icon\"></div>\n",
    "    Contents covered in this chapter:\n",
    "  </div>\n",
    "  <div class=\"callout-body\">\n",
    "    <ul>\n",
    "      <li>Types of data in Python</li>\n",
    "      <li>Structures</li>\n",
    "      <li>Operators and conditions</li>\n",
    "      <li>Loops and functions</li>\n",
    "    </ul>\n",
    "  </div>\n",
    "</div>\n",
    "\n",
    "\n",
    "## 1.1 JupyterLab and Jupyter Notebook\n",
    "\n",
    "`Jupyter Notebook` is a web-based application for creating and sharing computational documents that contain code and text (as well as equations and graphs). It can be used with R, Julia, and other languages in addition to Python. \n",
    "\n",
    "`JupyterLab` is an interactive development environment designed as a multi-document interface. It allows users to work with several notebooks and with an integrated terminal in the same interface. In this course we will work with `JupyterLab` because it is supported by `SSP Cloud.\n",
    "\n",
    "### 1.1.1 Notebooks\n",
    "\n",
    "You are currently in a notebook that I have created. You can open a new `cell` by typing `alt` + `Enter`. Try it out now: click on the current cell and type `alt` + `Enter`.\n",
    "\n",
    "Once the cell is created you can type `ctrl` + `enter` to execute it. Try it out now. Then type `D` twice to delete the cell."
   ]
  },
  {
   "cell_type": "markdown",
   "id": "78d120d8-f94c-4fab-b571-dc98d3a3d97f",
   "metadata": {},
   "source": [
    "### 1.1.2 Evaluation of an instruction\n",
    "\n",
    "Now let's open a new cell again below the current one and write the following instruction:\n",
    "\n",
    "`2 + 1`\n",
    "\n",
    "Once again to submit/execute the instruction, the fastest way is the keyboard shortcut: `ctrl` + `Enter`. Try it now."
   ]
  },
  {
   "cell_type": "markdown",
   "id": "7255f180-c7fc-4558-b2a5-b9cd206eb6e9",
   "metadata": {},
   "source": [
    "### 1.1.3 Using Markdown cells to comment your code\n",
    "\n",
    "When you first create a new cell, it is defined as a code cell. You can switch to a `Markdown` cell by typing `esc` and then `M` on your keyboard when you are in the cell. To switch back to code mode type `esc` &rarr; `Y`.\n",
    "\n",
    "`Markdown` is a simple programming language for creating formatted text using a plain-text editor. All the text cells in this notebook contain Markdown code. Visit the [Markdown Guide](https://www.markdownguide.org/) for a detailed presentation of the `Markdown` syntax.\n",
    "\n",
    "As a quick Markdown exercise, create a new cell below this one using the keyboard shortcut you have learned before and switch to `Markdown` mode. Type a short sentence in the cell and put the last word of the sentence between two double stars (**). What do you notice?\n"
   ]
  },
  {
   "cell_type": "markdown",
   "id": "bb0b075b-927e-4b79-a91a-7940f902d475",
   "metadata": {},
   "source": [
    "## 1.2 Variables\n",
    "\n",
    "### 1.2.1 Using variables\n",
    "\n",
    "When we want Python to store a result in memory, we need to assign it to a *variable*. To create a variable, we use the equality sign (=) and assign the result (or any object) to the variable name using the following syntax: `variable_name = object`.\n",
    "\n",
    "We can display the content of a variable using the function `print()`:\n",
    "\n",
    "`print(variable_name)`\n",
    "\n",
    "Or simply by typing the variable name:"
   ]
  },
  {
   "cell_type": "code",
   "execution_count": null,
   "id": "4bfb35c6-c5ae-4c5e-b8e9-8d3f2f160860",
   "metadata": {},
   "outputs": [],
   "source": [
    "x = 7\n",
    "print(x)\n",
    "x"
   ]
  },
  {
   "cell_type": "markdown",
   "id": "e28636c2-2135-40b9-8cbe-b8ce8988c70a",
   "metadata": {},
   "source": [
    "Change the value of the variable with a new assignment:"
   ]
  },
  {
   "cell_type": "code",
   "execution_count": null,
   "id": "e46ff25d-f645-4160-bd9f-ff1c0ee56b37",
   "metadata": {},
   "outputs": [],
   "source": [
    "x = 8\n",
    "x"
   ]
  },
  {
   "cell_type": "code",
   "execution_count": null,
   "id": "1fdec35d-091c-4812-bbc3-810bee29800e",
   "metadata": {},
   "outputs": [],
   "source": [
    "x = \"Madagascar\"\n",
    "x"
   ]
  },
  {
   "cell_type": "markdown",
   "id": "59d4295b-d9f0-4d00-b7ed-c0a5a6e5aa17",
   "metadata": {},
   "source": [
    "It is possible to create copies of a variable. The original variable will not be affected when changes are made to the copy:"
   ]
  },
  {
   "cell_type": "code",
   "execution_count": null,
   "id": "37939b42-34f0-4cbc-8014-ecaebe9e6b5e",
   "metadata": {},
   "outputs": [],
   "source": [
    "y = x\n",
    "y"
   ]
  },
  {
   "cell_type": "code",
   "execution_count": null,
   "id": "906bbde6-3341-48f0-beef-2ba36fce541a",
   "metadata": {},
   "outputs": [],
   "source": [
    "y = \"Antananarivo\"\n",
    "print(y)\n",
    "print(x)"
   ]
  },
  {
   "cell_type": "markdown",
   "id": "3c0185ab-f550-4797-90c4-f0e45d5c3183",
   "metadata": {},
   "source": [
    "A variable can be deleted with the instruction `del`:"
   ]
  },
  {
   "cell_type": "code",
   "execution_count": null,
   "id": "c5637d64-371c-4666-be63-c1a4a8918294",
   "metadata": {},
   "outputs": [],
   "source": [
    "del y \n",
    "y"
   ]
  },
  {
   "cell_type": "markdown",
   "id": "def42fa5-3b21-4427-bad9-83a92081e660",
   "metadata": {},
   "source": [
    "Variables can be incremented with the special operators `+=` and `*=` :"
   ]
  },
  {
   "cell_type": "code",
   "execution_count": null,
   "id": "8e98853e-971c-4900-9eda-dfe4fea9106c",
   "metadata": {},
   "outputs": [],
   "source": [
    "x = 0\n",
    "x += 1\n",
    "print(x)\n",
    "x += 1\n",
    "print(x)"
   ]
  },
  {
   "cell_type": "code",
   "execution_count": null,
   "id": "4af18092-72a1-4446-ac1a-59650385b1cd",
   "metadata": {},
   "outputs": [],
   "source": [
    "y = 1\n",
    "y *= 3\n",
    "print(y)\n",
    "y *= 3\n",
    "print(y)"
   ]
  },
  {
   "cell_type": "markdown",
   "id": "6e166dd9-75f1-49e5-94f1-1b3a3edddc53",
   "metadata": {},
   "source": [
    "### 1.2.2 Variable naming conventions\n",
    "\n",
    "As in most data science and statistics softwares: \n",
    "\n",
    "- Names of variables can only be composed of alphanumeric characters and the underscore (_).\n",
    "- Variable names cannot start with a numeric character.\n",
    "- It is prohibited to include spaces in variable names.\n",
    "\n",
    "In addition, to increase readability, it is recommended to only use lower case letters and to separate words by an underscore in variable names (i.e: use  `variable_name` and not `variablename` or `Variable_Name`).\n",
    "\n",
    "\n",
    "## 1.3 Modules and packages\n",
    "\n",
    "Most of the functions that you will use in `Python` are not available by default and you will need to load a `module` to use them. Modules are usually available within `packages`. The following three packages are usually the starting point for most data science work: \n",
    "\n",
    "- [NumPy](https://numpy.org/): for scientific computing.\n",
    "- [pandas](https://pandas.pydata.org/): for data analysis and manipulation.\n",
    "- [Matplotlib](https://matplotlib.org/): to create graphics.\n",
    "\n",
    "Use the function `import` to load a `package`. Ex:\n",
    "\n"
   ]
  },
  {
   "cell_type": "code",
   "execution_count": null,
   "id": "ce7a00b1-9378-47bf-a6c5-85ba206d6b99",
   "metadata": {},
   "outputs": [],
   "source": [
    "import pandas"
   ]
  },
  {
   "cell_type": "markdown",
   "id": "44171e9e-32dc-4d43-b3fa-0f932eb564b5",
   "metadata": {},
   "source": [
    "Because different functions included in separate modules or packages can share the same name, it is good practice to give an `alias` to the packages that you load: "
   ]
  },
  {
   "cell_type": "code",
   "execution_count": null,
   "id": "27ea6d10-410c-4e99-82d8-6ec87b4505e3",
   "metadata": {},
   "outputs": [],
   "source": [
    "import numpy as np\n",
    "import statistics as st\n",
    "\n",
    "data = [1, 2, 3, 4, 5]\n",
    "\n",
    "# mean de numpy\n",
    "print(np.mean(data))\n",
    "\n",
    "# mean de statistics\n",
    "print(st.mean(data))"
   ]
  },
  {
   "cell_type": "markdown",
   "id": "b7b6a516-cd07-4312-87fc-558590813235",
   "metadata": {},
   "source": [
    "You can also import a single function from a package as in this example:"
   ]
  },
  {
   "cell_type": "code",
   "execution_count": null,
   "id": "5d5a102b-63e3-4bb2-b644-9565b9bdc044",
   "metadata": {},
   "outputs": [],
   "source": [
    "import matplotlib.pyplot as plt\n",
    "\n",
    "x = np.arange(0, 10, 0.5)\n",
    "y = np.exp(x)\n",
    "plt.plot(x,y)"
   ]
  },
  {
   "cell_type": "markdown",
   "id": "02595938-7c8d-463a-9889-d34834505045",
   "metadata": {},
   "source": [
    "## 1.4 Help and documentation\n",
    "\n",
    "Type:\n",
    "- `?` to get an overview of `Python`'s main features.\n",
    "- `help()` to access the `Python` help system.\n",
    "- `object?` to get details about `object`.\n",
    "- `object??` to get more details about `object`.\n",
    "\n",
    "\n",
    "# 2. Types of data\n",
    "\n",
    "The main types of data that you will encounter in Python include:\n",
    "\n",
    "- numerical values.\n",
    "- strings.\n",
    "- booleans.\n",
    "- empty objects.\n",
    "\n",
    "\n",
    "## 2.1 Numerical values\n",
    "\n",
    "The two types of numerical objects that we will use in this course are: \n",
    "\n",
    "- integers (`int`).\n",
    "- floating point numbers (`float`).\n",
    "\n",
    "Use the `type()` function to print the type of a `Python` object:"
   ]
  },
  {
   "cell_type": "code",
   "execution_count": null,
   "id": "83e58df9-5bab-4c78-8d0b-781ce27c660b",
   "metadata": {},
   "outputs": [],
   "source": [
    "x = 2\n",
    "y = 3.25\n",
    "\n",
    "print(type(x))\n",
    "print(type(y))"
   ]
  },
  {
   "cell_type": "markdown",
   "id": "f15ae45b-cba9-4e3f-9aea-98a24e033804",
   "metadata": {},
   "source": [
    "You can use the `float` and `int` functions to convert objects from one type to the other (caution: `int` conversion truncates decimals):"
   ]
  },
  {
   "cell_type": "code",
   "execution_count": null,
   "id": "a358b369-6ff0-4da6-beb4-72ee5fd7f1fc",
   "metadata": {},
   "outputs": [],
   "source": [
    "print(float(x))\n",
    "print(int(y))"
   ]
  },
  {
   "cell_type": "markdown",
   "id": "94a68165-9d25-4202-8551-da965cf882c4",
   "metadata": {},
   "source": [
    "**Arithmetic operations:**"
   ]
  },
  {
   "cell_type": "code",
   "execution_count": null,
   "id": "2e171c25-ee5b-46e3-a7c9-f01f5c0bb2d3",
   "metadata": {},
   "outputs": [],
   "source": [
    "#Addition\n",
    "1 + 1"
   ]
  },
  {
   "cell_type": "code",
   "execution_count": null,
   "id": "f823736c-7792-471f-9c23-5a0db90c319b",
   "metadata": {},
   "outputs": [],
   "source": [
    "#Subtraction\n",
    "1-1"
   ]
  },
  {
   "cell_type": "code",
   "execution_count": null,
   "id": "a656f3a4-a2e7-4863-a462-60f3ede844cf",
   "metadata": {},
   "outputs": [],
   "source": [
    "#Multiplication\n",
    "2 * 2"
   ]
  },
  {
   "cell_type": "code",
   "execution_count": null,
   "id": "1f29a4fb-9d9d-40bd-928b-6df6cc0d6da5",
   "metadata": {},
   "outputs": [],
   "source": [
    "#Division\n",
    "4 / 2"
   ]
  },
  {
   "cell_type": "code",
   "execution_count": null,
   "id": "f1ee52ef-4414-4e23-8d39-fe4bf104f63a",
   "metadata": {},
   "outputs": [],
   "source": [
    "#Power\n",
    "2 ** 2"
   ]
  },
  {
   "cell_type": "code",
   "execution_count": null,
   "id": "ba5029fc-8ade-41cc-adcf-32ce722a632f",
   "metadata": {},
   "outputs": [],
   "source": [
    "#Square root\n",
    "4 ** 0.5"
   ]
  },
  {
   "cell_type": "markdown",
   "id": "814f4f69-6d41-468c-99d0-05eaf3f2ce33",
   "metadata": {},
   "source": [
    "## 2.2 Strings\n",
    "\n",
    "A string is a collection of [Unicode](https://en.wikipedia.org/wiki/Unicode) characters such as letters, numbers, punctuation marks, etc.\n",
    "\n",
    "Strings are defined with single or double quotation marks:"
   ]
  },
  {
   "cell_type": "code",
   "execution_count": null,
   "id": "ab3b3e48-636d-417f-9337-2884a8b41295",
   "metadata": {},
   "outputs": [],
   "source": [
    "x = \"Madagascar\"\n",
    "print(x)\n",
    "print(type(x))"
   ]
  },
  {
   "cell_type": "code",
   "execution_count": null,
   "id": "09c61d5e-0465-4011-90c8-a21fa79c1ce5",
   "metadata": {},
   "outputs": [],
   "source": [
    "#This also works:\n",
    "y = 'it works'\n",
    "\n",
    "#This doesn't work:\n",
    "z = 'I'm a genius'\n",
    "\n",
    "print(y)\n",
    "print(z)"
   ]
  },
  {
   "cell_type": "markdown",
   "id": "73f52556-d887-474f-a907-a5be54148341",
   "metadata": {},
   "source": [
    "Use the `len` function to count the number of characters in a string:"
   ]
  },
  {
   "cell_type": "code",
   "execution_count": null,
   "id": "01696069-6dd3-4391-934d-6ee786215e03",
   "metadata": {},
   "outputs": [],
   "source": [
    "len(x)"
   ]
  },
  {
   "cell_type": "markdown",
   "id": "26793c63-b569-439e-bc7a-d2441e58c7da",
   "metadata": {},
   "source": [
    "Strings can be concatenated..."
   ]
  },
  {
   "cell_type": "code",
   "execution_count": null,
   "id": "4b0621b9-4851-4714-9ff9-cc54a801ebde",
   "metadata": {},
   "outputs": [],
   "source": [
    "\"This is\" + \" \" + \"fun\""
   ]
  },
  {
   "cell_type": "markdown",
   "id": "50a34c46-4598-4220-b4eb-0b008432b011",
   "metadata": {},
   "source": [
    "... and repeated:"
   ]
  },
  {
   "cell_type": "code",
   "execution_count": null,
   "id": "042ca7a1-0ba1-4714-a754-4c882c528d6a",
   "metadata": {},
   "outputs": [],
   "source": [
    "\"fun \" * 3 + \"... !\""
   ]
  },
  {
   "cell_type": "markdown",
   "id": "9688dc76-7074-4931-9ac8-6c02da54595c",
   "metadata": {},
   "source": [
    "Each character in a string has an index corresponding to its order in the string sequence. We can use the index to extract specific characters from a string. **Important: indexing starts at 0 in Python**"
   ]
  },
  {
   "cell_type": "code",
   "execution_count": null,
   "id": "78797935-31cb-49d9-9c88-7b1e79fc8864",
   "metadata": {},
   "outputs": [],
   "source": [
    "#Extract 1st element of the sequence\n",
    "\"This is still fun !\"[0]"
   ]
  },
  {
   "cell_type": "code",
   "execution_count": null,
   "id": "9f5125c3-368a-4373-95b0-8a24e0b9586e",
   "metadata": {},
   "outputs": [],
   "source": [
    "#Extract 2nd element of the sequence\n",
    "\"This is still fun !\"[1]"
   ]
  },
  {
   "cell_type": "code",
   "execution_count": null,
   "id": "ec3aa12f-2fc2-4283-bf3a-75cdadb3f6bd",
   "metadata": {},
   "outputs": [],
   "source": [
    "#Extract last element of the sequence\n",
    "\"This is still fun !\"[-1]"
   ]
  },
  {
   "cell_type": "code",
   "execution_count": null,
   "id": "e44d649d-7aac-4821-ab61-35d4d13b6b11",
   "metadata": {},
   "outputs": [],
   "source": [
    "#Extract everything from a certain character\n",
    "\"This is still fun !\"[8:]"
   ]
  },
  {
   "cell_type": "code",
   "execution_count": null,
   "id": "38bc51d8-f848-49d1-a46d-265619dcdc3c",
   "metadata": {},
   "outputs": [],
   "source": [
    "#Extract everything up to a certain character\n",
    "\"This is still fun !\"[:7]"
   ]
  },
  {
   "cell_type": "code",
   "execution_count": null,
   "id": "ad7569b8-cee8-4e67-aca3-8456320fe675",
   "metadata": {},
   "outputs": [],
   "source": [
    "#Extract a substring\n",
    "\"This is still fun !\"[14:17]"
   ]
  },
  {
   "cell_type": "code",
   "execution_count": null,
   "id": "831601d0-d748-4b14-be92-15ea7b88eb9b",
   "metadata": {},
   "outputs": [],
   "source": [
    "#Extract every other element of the sequence\n",
    "\"This is still fun !\"[0::2]"
   ]
  },
  {
   "cell_type": "code",
   "execution_count": null,
   "id": "05cb9615-80ca-44e9-9a7b-e3124c75e5c5",
   "metadata": {},
   "outputs": [],
   "source": [
    "#Extract every three element of the sequence starting from the second and finishing at the 17th\n",
    "\"This is still fun !\"[1:17:2]"
   ]
  },
  {
   "cell_type": "code",
   "execution_count": null,
   "id": "e6b12986-2d7f-4461-9c28-6b56faa39510",
   "metadata": {},
   "outputs": [],
   "source": [
    "#Reverse a sequence\n",
    "\"This is still fun !\"[::-1]"
   ]
  },
  {
   "cell_type": "markdown",
   "id": "edeb7245-dd05-49db-9271-d8bb9c919c38",
   "metadata": {},
   "source": [
    "The general syntax is `x[a:b:c]` where `a` is the position of the starting character, `b` the position of the ending character, and `c` the indexing step (remember: **indexing starts at 0**)."
   ]
  },
  {
   "cell_type": "markdown",
   "id": "ed57af49-ce09-4416-a343-d65143902e47",
   "metadata": {},
   "source": [
    "## 2.3 Booleans\n",
    "\n",
    "`Booleans` are logical data which take either the value `True` or `False`. Caution: case is important for the data to be recognized as boolean."
   ]
  },
  {
   "cell_type": "code",
   "execution_count": null,
   "id": "7305ea19-ceec-4b98-b6e8-4386d1af5f1b",
   "metadata": {},
   "outputs": [],
   "source": [
    "x = True\n",
    "y = False\n",
    "print(x, y)"
   ]
  },
  {
   "cell_type": "markdown",
   "id": "d97377b3-2eef-4606-9d03-06e3caa2712c",
   "metadata": {},
   "source": [
    "`Python` will automatically convert `boolean` data to 1 (for `True`) and 0 (for `False`):"
   ]
  },
  {
   "cell_type": "code",
   "execution_count": null,
   "id": "1a0f685f-7ccd-4219-a2eb-8ef72444cdc5",
   "metadata": {},
   "outputs": [],
   "source": [
    "boo = True + False + True + False + True\n",
    "print(boo)"
   ]
  },
  {
   "cell_type": "markdown",
   "id": "c0db19ad-e3e5-4ed6-bdae-2bff51cd5e2f",
   "metadata": {},
   "source": [
    "## 2.4 Empty objects\n",
    "\n",
    "Empty objects take the value `None` and have the class `NoneType`:"
   ]
  },
  {
   "cell_type": "code",
   "execution_count": null,
   "id": "af6a414b-d8bb-4069-b463-7bfe1d1704fd",
   "metadata": {},
   "outputs": [],
   "source": [
    "x = None\n",
    "print(type(x))"
   ]
  },
  {
   "cell_type": "markdown",
   "id": "75b45cad-6129-4c50-99b0-2dc387c4fb9e",
   "metadata": {},
   "source": [
    "One can test if an object is empty with the following approach:"
   ]
  },
  {
   "cell_type": "code",
   "execution_count": null,
   "id": "9fab0970-f8eb-40b8-a209-db0630e42b7e",
   "metadata": {},
   "outputs": [],
   "source": [
    "print(x is None)"
   ]
  },
  {
   "cell_type": "markdown",
   "id": "979c685a-9f6a-49a7-b4b5-4863f0401e5e",
   "metadata": {},
   "source": [
    "## 2.5 Exercises\n",
    "\n",
    "### Displaying basic types\n",
    "\n",
    "Display the type of x when:\n",
    "\n",
    "-   x = 3\n",
    "-   x = “test”\n",
    "-   x = 3.5"
   ]
  },
  {
   "cell_type": "code",
   "execution_count": 112,
   "id": "687c9faf-b79a-4224-aee3-0c79010992aa",
   "metadata": {},
   "outputs": [],
   "source": [
    "# Type your answer in this cell"
   ]
  },
  {
   "cell_type": "markdown",
   "id": "09a0dc52-7a49-446d-8950-5d294905b969",
   "metadata": {},
   "source": [
    "### String lengths\n",
    "\n",
    "Calculate the sum of the lengths of the following three strings:\n",
    "\n",
    "-   “a first string”\n",
    "-   “and a second”\n",
    "-   “never two without three”"
   ]
  },
  {
   "cell_type": "code",
   "execution_count": 113,
   "id": "f5259e92-e773-4d95-9b5f-892e12d4ddf4",
   "metadata": {},
   "outputs": [],
   "source": [
    "# Type your answer in this cell"
   ]
  },
  {
   "cell_type": "markdown",
   "id": "9be11910-a9a8-4b01-b2c2-58c71d5eb3ee",
   "metadata": {},
   "source": [
    "### Counting letters\n",
    "\n",
    "Count the number of times the letter e appears in the following string:\n",
    "“I am counting the e’s.”\n",
    "\n",
    "**Hint**: you can use the built-in method\n",
    "[count](https://docs.python.org/3/library/stdtypes.html#str.count)."
   ]
  },
  {
   "cell_type": "code",
   "execution_count": 114,
   "id": "e7001e3b-357f-4a13-92c6-6b58c97da7f1",
   "metadata": {},
   "outputs": [],
   "source": [
    "# Type your answer in this cell"
   ]
  },
  {
   "cell_type": "markdown",
   "id": "cc9ce28a-8b4b-4a6e-8d8a-a7bc265d330f",
   "metadata": {},
   "source": [
    "### Detecting letters\n",
    "\n",
    "Find the first position where the letter e appears in the following\n",
    "string: “I am counting the e’s.”\n",
    "\n",
    "**Hint**: you can use the built-in method\n",
    "[find](https://docs.python.org/3/library/stdtypes.html#str.find)."
   ]
  },
  {
   "cell_type": "code",
   "execution_count": 115,
   "id": "5de07307-e62d-49e6-b561-cde3c795f556",
   "metadata": {},
   "outputs": [],
   "source": [
    "# Type your answer in this cell"
   ]
  },
  {
   "cell_type": "markdown",
   "id": "a51bef41-bf57-4b3e-bf6d-2dfbea27c5f6",
   "metadata": {},
   "source": [
    "### Removing spaces in a string\n",
    "\n",
    "Remove the extra spaces at the beginning and end of the following\n",
    "string:\n",
    "\n",
    "**Hint**: you can use the built-in method\n",
    "[strip](https://docs.python.org/3/library/stdtypes.html#str.strip)."
   ]
  },
  {
   "cell_type": "code",
   "execution_count": null,
   "id": "35169024-e04c-4ab4-bccc-e790bfa29017",
   "metadata": {},
   "outputs": [],
   "source": [
    "# Type your answer in this cell"
   ]
  },
  {
   "cell_type": "markdown",
   "id": "40707b29-c65b-4b62-accc-b7d112dd0838",
   "metadata": {},
   "source": [
    "### Escaping characters\n",
    "\n",
    "The `\\` character allows escaping (neutralizing) a special character\n",
    "within a string. Find how this character solves the problem of using\n",
    "quotes (or apostrophes) within a string defined by quotes (apostrophes).\n",
    "\n",
    "**Hint**: examples of usage are available in the [official\n",
    "documentation](https://docs.python.org/3/reference/lexical_analysis.html#literals)."
   ]
  },
  {
   "cell_type": "code",
   "execution_count": 116,
   "id": "f14bd621-1ae2-4ef9-95f3-20f38f13bded",
   "metadata": {},
   "outputs": [],
   "source": [
    "# Type your answer in this cell"
   ]
  },
  {
   "cell_type": "markdown",
   "id": "940cb7fc-6da7-4881-b005-728f7bbd603b",
   "metadata": {},
   "source": [
    "### A first algorithm\n",
    "\n",
    "Perform the following sequence of operations using increment operators,\n",
    "and print the final value:\n",
    "\n",
    "-   initialize a variable to 1\n",
    "-   subtract 5 from it\n",
    "-   multiply it by 4\n",
    "-   add 22 to it"
   ]
  },
  {
   "cell_type": "code",
   "execution_count": null,
   "id": "2f07fc1a-fd08-4ed6-85cc-64361558e93b",
   "metadata": {},
   "outputs": [],
   "source": [
    "# Type your answer in this cell"
   ]
  },
  {
   "cell_type": "markdown",
   "id": "b29630b5-8993-4176-aa47-8017f9025327",
   "metadata": {},
   "source": [
    "# 3. Structures \n",
    "\n",
    "The main types of structures in `Python` are:\n",
    "\n",
    "- lists,\n",
    "- tuples,\n",
    "- sets,\n",
    "- and dictionaries.\n",
    "\n",
    "Data structures can be seen as containers because they allow you to store, organize, and access data. \n",
    "\n",
    "Lists and tuples are **sequential containers**: the elements they contain are **ordered**, and their position is recorded in an **index**.\n",
    "\n",
    "Dictionaries and sets are **unordered data structures**: objects are no longer stored by position (or index) but by **key**, which is a unique identifier.\n",
    "\n",
    "## 3.1 Lists\n",
    "\n",
    "`Lists` are one of the most flexible structures in Python. A `list` is a grouping of values.\n",
    "The creation of a list is done by writing the values by separating them with a comma\n",
    "and surrounding them by square brackets ([ and ]). You can store both numerical values and strings in lists.\n",
    "\n",
    "Ask python to join together the numbers 3, 4, and 5, and to save them as a list named `x`. Then, display the content of `x`:"
   ]
  },
  {
   "cell_type": "code",
   "execution_count": null,
   "id": "a895985d-6a02-42b0-af2d-32478923a74b",
   "metadata": {},
   "outputs": [],
   "source": []
  },
  {
   "cell_type": "markdown",
   "id": "8b5a4eab-d763-400b-9d4b-d94ef1ba92c3",
   "metadata": {},
   "source": [
    "Copying a list: Be **careful**, copying a list in Python is achieved by using the `list()` function not by using the equal sign:"
   ]
  },
  {
   "cell_type": "code",
   "execution_count": null,
   "id": "8b60ae85-e40a-4d0f-8cb8-49053b48b4f8",
   "metadata": {},
   "outputs": [],
   "source": [
    "y=x\n",
    "y[0] = 0\n",
    "print(y)\n",
    "print(x)"
   ]
  },
  {
   "cell_type": "code",
   "execution_count": null,
   "id": "82f0225b-ae39-4b79-8a99-9ec960d54eab",
   "metadata": {},
   "outputs": [],
   "source": [
    "x = [3, 4, 5]\n",
    "y = list(x)\n",
    "y[0] = 0\n",
    "print(\"x : \", x)\n",
    "print(\"y : \", y)"
   ]
  },
  {
   "cell_type": "markdown",
   "id": "fb8610a1-8591-45bd-b84d-ccae3bae6f73",
   "metadata": {},
   "source": [
    "## 3.2 Tuples\n",
    "\n",
    "`Tuples` are sequences of Python objects. To create a tuple, one lists the values, separated by commas. Unlike lists, **tuples are inalterable** (i.e. cannot be modified after they have been created)."
   ]
  },
  {
   "cell_type": "code",
   "execution_count": null,
   "id": "6a31ebef-8640-4e9a-9603-a2585b91afa9",
   "metadata": {},
   "outputs": [],
   "source": [
    "x = 1, 4, 9, 16, 25\n",
    "print(x)"
   ]
  },
  {
   "cell_type": "code",
   "execution_count": null,
   "id": "9b34efad-b3a0-458f-a89c-9a0992709902",
   "metadata": {
    "scrolled": true
   },
   "outputs": [],
   "source": [
    "x[0] = 1"
   ]
  },
  {
   "cell_type": "markdown",
   "id": "e06401de-9306-47c8-9063-ccb7c9e4f657",
   "metadata": {},
   "source": [
    "## 3.3 Sets\n",
    "\n",
    "`Sets` are unordered collections of unique elements. Sets are unalterable. Unlike tuples, sets are not\n",
    "indexed:"
   ]
  },
  {
   "cell_type": "code",
   "execution_count": null,
   "id": "de499eb3-7a59-4acb-acf2-8064e11334f7",
   "metadata": {},
   "outputs": [],
   "source": [
    "new_set = {\"Bordeaux\", \"Aix-en-Provence\", \"Nice\", \"Rennes\"}\n",
    "print(new_set)"
   ]
  },
  {
   "cell_type": "markdown",
   "id": "7035909d-1c97-44fe-96a6-c1bab78872cf",
   "metadata": {},
   "source": [
    "Sets are not very often used in practice, but they are quite useful in\n",
    "certain specific situations. Due to the uniqueness of the elements they\n",
    "contain, sets allow you to simply and effectively remove duplicates from\n",
    "a sequential container, such as a list.\n",
    "\n",
    "**Deduplication**\n",
    "\n",
    "Suppose you want to remove duplicates from a given list. By definition,\n",
    "converting a list to a set removes duplicates. However, you generally\n",
    "want to return to a list, as sets do not offer the same flexibility as\n",
    "lists (for example, the ability to find an element by position). It is\n",
    "therefore common to perform the `list -> set -> list` chain of\n",
    "operations to deduplicate a list."
   ]
  },
  {
   "cell_type": "code",
   "execution_count": null,
   "id": "6fde99a2-b8d8-4f2e-a764-8370e7e7e5e3",
   "metadata": {},
   "outputs": [],
   "source": [
    "l = [1, 2, 3, 3, 2, 1]\n",
    "l_dedup = list(set(l))\n",
    "l_dedup"
   ]
  },
  {
   "cell_type": "markdown",
   "id": "bf264670-3690-426a-8d11-dc6cdf120025",
   "metadata": {},
   "source": [
    "**Set Operations**\n",
    "\n",
    "Since sets programmatically represent mathematical sets, it is not\n",
    "surprising that they allow for elementary set operations. For example,\n",
    "union and intersection."
   ]
  },
  {
   "cell_type": "code",
   "execution_count": null,
   "id": "809b413b-a527-4652-81c4-79a3e84e20d4",
   "metadata": {},
   "outputs": [],
   "source": [
    "l1 = [5, 3, 2, 3, 3, 5, 8, 9]\n",
    "l2 = [3, 7, 0, 0, 1, 9, 4, 6]\n",
    "\n",
    "# Union: elements in l1, l2, or both\n",
    "l_union = list(set(l1) | set(l2))\n",
    "print(l_union)\n",
    "\n",
    "# Intersection: elements in both l1 and l2\n",
    "l_inter = list(set(l1) & set(l2))\n",
    "print(l_inter)"
   ]
  },
  {
   "cell_type": "markdown",
   "id": "633e5561-e2ef-4bf4-9793-bc1400d0e289",
   "metadata": {},
   "source": [
    "**Membership Tests**\n",
    "\n",
    "Sets are also very useful for membership tests, as they offer much\n",
    "better performance than lists for this type of test.\n",
    "\n",
    "The concept of testing will be covered in a future tutorial. For now,\n",
    "let’s note that a membership test such as “is element `a` in list `l`”\n",
    "is written in Python as `a in l` and returns `True` or `False` depending\n",
    "on whether `a` is actually present in list `l`."
   ]
  },
  {
   "cell_type": "code",
   "execution_count": null,
   "id": "1506faaa-6f38-4d59-b98c-c4c1f4a6405b",
   "metadata": {},
   "outputs": [],
   "source": [
    "l = [1, 2, 3]\n",
    "2 in l"
   ]
  },
  {
   "cell_type": "code",
   "execution_count": null,
   "id": "156925ef-f228-4883-8c09-9acd9c177b33",
   "metadata": {},
   "outputs": [],
   "source": [
    "4 in l"
   ]
  },
  {
   "cell_type": "code",
   "execution_count": null,
   "id": "0d59734e-826e-46e4-a62e-a8607eb2183e",
   "metadata": {},
   "outputs": [],
   "source": []
  },
  {
   "cell_type": "markdown",
   "id": "5fef5ffb-2005-495e-b5e5-834886d86921",
   "metadata": {},
   "source": [
    "## 3.4 Dictionaries\n",
    "\n",
    "Python `dictionaries` are an implementation of `key-value objects`, the keys being\n",
    "indexed. Keys are often text, values can be of different types and structures. To create a dictionary, you can proceed by using braces ({}):"
   ]
  },
  {
   "cell_type": "code",
   "execution_count": null,
   "id": "ac8ac6b2-c7bb-43fc-8efa-c2d083c03179",
   "metadata": {},
   "outputs": [],
   "source": [
    "my_dict = { \"nom\": \"Kyrie\",\n",
    "\"prenom\": \"John\",\n",
    "\"naissance\": 1992,\n",
    "\"equipes\": [\"Cleveland\", \"Boston\"]}\n",
    "print(my_dict)"
   ]
  },
  {
   "cell_type": "code",
   "execution_count": null,
   "id": "f01b917c-2769-4bcf-b83e-f08fc94be03e",
   "metadata": {},
   "outputs": [],
   "source": [
    "print(my_dict[\"equipes\"])"
   ]
  },
  {
   "cell_type": "code",
   "execution_count": null,
   "id": "f732373e-b713-41f7-a380-486729271795",
   "metadata": {},
   "outputs": [],
   "source": [
    "my_dict[\"equipes\"] = [\"Montclair Kimberley Academy\",\n",
    "\"Cleveland Cavaliers\", \"Boston Celtics\"]\n",
    "print(my_dict)"
   ]
  },
  {
   "cell_type": "markdown",
   "id": "9875744f-681a-4b79-a1c0-3cea32089c2f",
   "metadata": {},
   "source": [
    "The `.keys()`, `.values()`, and `.items()` methods return the keys,\n",
    "values, and key-value pairs of a dictionary, respectively. The objects\n",
    "returned by these methods are a bit complex, but they can be converted\n",
    "to lists using the `list` function to query them by position:"
   ]
  },
  {
   "cell_type": "code",
   "execution_count": null,
   "id": "ffec39e0-368c-4448-a374-a2eb857a57c0",
   "metadata": {},
   "outputs": [],
   "source": [
    "list(my_dict.keys())"
   ]
  },
  {
   "cell_type": "code",
   "execution_count": null,
   "id": "9e5f9387-b838-4628-ba4e-7d59342972ad",
   "metadata": {},
   "outputs": [],
   "source": [
    "list(my_dict.values())"
   ]
  },
  {
   "cell_type": "code",
   "execution_count": null,
   "id": "08a76b5a-7267-497c-b884-d3450739b5eb",
   "metadata": {},
   "outputs": [],
   "source": [
    "list(my_dict.items())"
   ]
  },
  {
   "cell_type": "markdown",
   "id": "3f5077d2-e4a7-4f4a-aff6-30f2f89b65d7",
   "metadata": {},
   "source": [
    "## 3.5 Exercises\n",
    "\n",
    "### Doing Scales\n",
    "\n",
    "By adding, deleting, and modifying elements, clean up the following list\n",
    "so that it contains the musical notes “do re mi fa sol la si” in the\n",
    "correct order.\n",
    "\n",
    "`l = [\"do\", \"re\", \"re\", \"re\", \"fa\", \"sol\", \"solsi\", \"la\"]`\n",
    "\n",
    "Hint: use the list's `index`, the `del` function and the [append](https://mimo.org/glossary/python/append()) function."
   ]
  },
  {
   "cell_type": "code",
   "execution_count": 117,
   "id": "9f2cdb20-94c9-44e2-b156-0accb029a18d",
   "metadata": {},
   "outputs": [],
   "source": [
    "#Type your answer in this cell"
   ]
  },
  {
   "cell_type": "markdown",
   "id": "6a6378f9-1a5d-4197-bb2a-65a12295fff9",
   "metadata": {},
   "source": [
    "### Min and Max of Different Lists\n",
    "\n",
    "Verify the behavior of the `min` and `max` functions:\n",
    "\n",
    "-   on a list composed solely of numeric objects (`int` and `float`);\n",
    "-   on a list composed solely of strings;\n",
    "-   on a list composed of a mix of numeric and textual objects."
   ]
  },
  {
   "cell_type": "code",
   "execution_count": null,
   "id": "20897108-e212-482b-8f64-8d22987a5b2a",
   "metadata": {},
   "outputs": [],
   "source": [
    "#Type your answer in this cell"
   ]
  },
  {
   "cell_type": "markdown",
   "id": "b3bc1836-0e4f-4581-8d78-ccb24ef124dc",
   "metadata": {},
   "source": [
    "### Empty List\n",
    "\n",
    "Try creating an empty list. Verify its type. What could be the use of\n",
    "such an object?"
   ]
  },
  {
   "cell_type": "code",
   "execution_count": 119,
   "id": "7e7dbc59-aba9-4c13-a898-45b33c078259",
   "metadata": {},
   "outputs": [],
   "source": [
    "#Type your answer in this cell"
   ]
  },
  {
   "cell_type": "markdown",
   "id": "83e58513-3117-48dd-b849-b013fe25f404",
   "metadata": {},
   "source": [
    "### The `list` and `tuple` functions\n",
    "\n",
    "The `list` and `tuple` functions allow\n",
    "converting from one type to the other: the code `list(my_object)` returns the\n",
    "“list version” of that object.\n",
    "\n",
    "- Create the tuple `a = (1, 2, 3)` and convert it to a list using the `list` function.\n",
    "\n",
    "- Then, create the string `b = \"hello\"` and convert it to a list using the `list` function.\n"
   ]
  },
  {
   "cell_type": "code",
   "execution_count": 120,
   "id": "48c9c73c-0dd4-44cb-b6b1-7bb22ec77ecd",
   "metadata": {},
   "outputs": [],
   "source": [
    "#Type your answer in this cell"
   ]
  },
  {
   "cell_type": "markdown",
   "id": "86d885b4-5b14-4242-b0d7-c5b5a99f2791",
   "metadata": {},
   "source": [
    "### Querying a Dictionary\n",
    "\n",
    "Given the dictionary defined in the cell below.\n",
    "\n",
    "Display using `print` operations:\n",
    "\n",
    "-   the list of class names\n",
    "-   Miranda’s history grade\n",
    "-   the list of grades obtained by Hypolyte\n",
    "-   the list of student names in 6emeB\n",
    "-   the list of subjects taught in 6emeA\n",
    "-   the list of all subjects taught\n",
    "-   the list of grades obtained by girls in both classes"
   ]
  },
  {
   "cell_type": "code",
   "execution_count": 129,
   "id": "320201f4-7b42-427e-9506-c28c006f2fe8",
   "metadata": {},
   "outputs": [],
   "source": [
    "results = {\n",
    "    \"6emeA\": {\"Miranda\" : {\"grades\": {\"physics\": 16, \"history\": 12}},\n",
    "              \"Celestin\": {\"grades\": {\"physics\": \"absent\", \"history\": 18}}\n",
    "             },\n",
    "    \"6emeB\": {\"Hypolyte\": {\"grades\": {\"math\": 11, \"english\": 0}},\n",
    "              \"Josephine\": {\"grades\": {\"math\": 16, \"english\": 20}}\n",
    "             }\n",
    "}"
   ]
  },
  {
   "cell_type": "code",
   "execution_count": 170,
   "id": "08ee24db-736e-4233-b5b6-7c1a655445fd",
   "metadata": {},
   "outputs": [],
   "source": [
    "#Type your answer here"
   ]
  },
  {
   "cell_type": "markdown",
   "id": "346c5d4d-bc5e-4c8c-926d-ba605cd3a891",
   "metadata": {},
   "source": [
    "### Deduplication\n",
    "\n",
    "Given the following string with repetitions:\n",
    "\n",
    "`x = \"cdabcdabcdabcdabcdabcdabcdabcdabcdab\"`\n",
    "\n",
    "Construct a list of unique characters in this string, sorted\n",
    "alphabetically, i.e.:\n",
    "\n",
    "`l = ['a', 'b', 'c', 'd']`\n",
    "\n",
    "Hint: the procedure is similar to removing duplicates from a list."
   ]
  },
  {
   "cell_type": "code",
   "execution_count": 175,
   "id": "1d08f2d0-fcf7-4e14-8295-7818b9007ef3",
   "metadata": {},
   "outputs": [],
   "source": [
    "#Type your asnwer here"
   ]
  },
  {
   "cell_type": "markdown",
   "id": "f56c38b0-9553-4815-a5c9-cdff4703fe15",
   "metadata": {},
   "source": [
    "### Intersections and Unions of Strings\n",
    "\n",
    "Given the following two strings:\n",
    "\n",
    "`cyrano1 = 'C’est un roc ! … c’est un pic ! … c’est un cap !'`\n",
    "\n",
    "`cyrano2 = 'Que dis-je, c’est un cap ? … C’est une péninsule !'`\n",
    "\n",
    "Question 1: find the characters that appear in both strings.\n",
    "\n",
    "Question 2: find the characters that appear in at least one of the two\n",
    "texts."
   ]
  },
  {
   "cell_type": "code",
   "execution_count": 179,
   "id": "0438f493-942b-42a3-8802-65797a6f95b8",
   "metadata": {},
   "outputs": [],
   "source": [
    "#Type your asnwer here"
   ]
  },
  {
   "cell_type": "code",
   "execution_count": 104,
   "id": "cbcff1c3-3a40-4e1e-b195-071c2730ea27",
   "metadata": {
    "jupyter": {
     "source_hidden": true
    }
   },
   "outputs": [
    {
     "data": {
      "text/html": [
       "\n",
       "<style>\n",
       "/* cible le HTML rendu par JupyterLab et force l'application */\n",
       ".jp-RenderedHTMLCommon .callout.callout-tip {\n",
       "  border-left: 6px solid #2ecc71 !important;\n",
       "  background-color: #ecfdf5 !important;\n",
       "  border-radius: 6px !important;\n",
       "  padding: 0.8em 1em !important;\n",
       "  margin: 1em 0 !important;\n",
       "  font-family: sans-serif !important;\n",
       "}\n",
       "\n",
       "/* en-tête */\n",
       ".jp-RenderedHTMLCommon .callout-header {\n",
       "  display: flex !important;\n",
       "  align-items: center !important;\n",
       "  font-weight: 700 !important;\n",
       "  color: #065f46 !important;\n",
       "  margin-bottom: 0.5em !important;\n",
       "}\n",
       "\n",
       "/* icône (pseudo-élément) */\n",
       ".jp-RenderedHTMLCommon .callout-icon::before {\n",
       "  content: \"💡\" !important;\n",
       "  margin-right: 0.5em !important;\n",
       "  font-size: 1.2em !important;\n",
       "}\n",
       "\n",
       "/* corps : listes */\n",
       ".jp-RenderedHTMLCommon .callout-body ul {\n",
       "  margin: 0 0 0 1.25em !important;\n",
       "  padding: 0 !important;\n",
       "}\n",
       "</style>\n"
      ],
      "text/plain": [
       "<IPython.core.display.HTML object>"
      ]
     },
     "metadata": {},
     "output_type": "display_data"
    }
   ],
   "source": [
    "from IPython.display import HTML, display\n",
    "\n",
    "display(HTML(\"\"\"\n",
    "<style>\n",
    "/* cible le HTML rendu par JupyterLab et force l'application */\n",
    ".jp-RenderedHTMLCommon .callout.callout-tip {\n",
    "  border-left: 6px solid #2ecc71 !important;\n",
    "  background-color: #ecfdf5 !important;\n",
    "  border-radius: 6px !important;\n",
    "  padding: 0.8em 1em !important;\n",
    "  margin: 1em 0 !important;\n",
    "  font-family: sans-serif !important;\n",
    "}\n",
    "\n",
    "/* en-tête */\n",
    ".jp-RenderedHTMLCommon .callout-header {\n",
    "  display: flex !important;\n",
    "  align-items: center !important;\n",
    "  font-weight: 700 !important;\n",
    "  color: #065f46 !important;\n",
    "  margin-bottom: 0.5em !important;\n",
    "}\n",
    "\n",
    "/* icône (pseudo-élément) */\n",
    ".jp-RenderedHTMLCommon .callout-icon::before {\n",
    "  content: \"💡\" !important;\n",
    "  margin-right: 0.5em !important;\n",
    "  font-size: 1.2em !important;\n",
    "}\n",
    "\n",
    "/* corps : listes */\n",
    ".jp-RenderedHTMLCommon .callout-body ul {\n",
    "  margin: 0 0 0 1.25em !important;\n",
    "  padding: 0 !important;\n",
    "}\n",
    "</style>\n",
    "\"\"\"))\n"
   ]
  }
 ],
 "metadata": {
  "kernelspec": {
   "display_name": "Python 3 (ipykernel)",
   "language": "python",
   "name": "python3"
  },
  "language_info": {
   "codemirror_mode": {
    "name": "ipython",
    "version": 3
   },
   "file_extension": ".py",
   "mimetype": "text/x-python",
   "name": "python",
   "nbconvert_exporter": "python",
   "pygments_lexer": "ipython3",
   "version": "3.13.7"
  }
 },
 "nbformat": 4,
 "nbformat_minor": 5
}
