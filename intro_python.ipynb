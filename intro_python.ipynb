{
 "cells": [
  {
   "cell_type": "markdown",
   "id": "ffb774f5-59c6-46a7-ae45-d486c25681d5",
   "metadata": {},
   "source": [
    "# Introduction to the Python programming language\n",
    "\n",
    "Thomas Thivillon\n",
    "\n",
    "2025-09-22 \n",
    "\n",
    "# 1. Introduction\n",
    "\n",
    "This chapter provides an introduction to `Python` programming in the `JupyterLab` interactive development environment (IDE). This notebook was prepared for `Python` version 3.x.\n",
    "\n",
    "<div class=\"callout callout-tip\">\n",
    "  <div class=\"callout-header\">\n",
    "    <div class=\"callout-icon\"></div>\n",
    "    Contents covered in this chapter:\n",
    "  </div>\n",
    "  <div class=\"callout-body\">\n",
    "    <ul>\n",
    "      <li>Types of data in Python</li>\n",
    "      <li>Structures</li>\n",
    "      <li>Operators and conditions</li>\n",
    "      <li>Loops and functions</li>\n",
    "    </ul>\n",
    "  </div>\n",
    "</div>\n",
    "\n",
    "\n",
    "## 1.1 JupyterLab and Jupyter Notebook\n",
    "\n",
    "`Jupyter Notebook` is a web-based application for creating and sharing computational documents that contain code and text (as well as equations and graphs). It can be used with R, Julia, and other languages in addition to Python. \n",
    "\n",
    "`JupyterLab` is an interactive development environment designed as a multi-document interface. It allows users to work with several notebooks and with an integrated terminal in the same interface. In this course we will work with `JupyterLab` because it is supported by `SSP Cloud.\n",
    "\n",
    "### 1.1.1 Notebooks\n",
    "\n",
    "You are currently in a notebook that I have created. You can open a new `cell` by typing `alt` + `Enter`. Try it out now: click on the current cell and type `alt` + `Enter`.\n",
    "\n",
    "Once the cell is created you can type `ctrl` + `enter` to execute it. Try it out now. Then type `D` twice to delete the cell."
   ]
  },
  {
   "cell_type": "markdown",
   "id": "78d120d8-f94c-4fab-b571-dc98d3a3d97f",
   "metadata": {},
   "source": [
    "### 1.1.2 Evaluation of an instruction\n",
    "\n",
    "Now let's open a new cell again below the current one and write the following instruction:\n",
    "\n",
    "`2 + 1`\n",
    "\n",
    "Once again to submit/execute the instruction, the fastest way is the keyboard shortcut: `ctrl` + `Enter`. Try it now."
   ]
  },
  {
   "cell_type": "markdown",
   "id": "7255f180-c7fc-4558-b2a5-b9cd206eb6e9",
   "metadata": {},
   "source": [
    "### 1.1.3 Using Markdown cells to comment your code\n",
    "\n",
    "When you first create a new cell, it is defined as a code cell. You can switch to a `Markdown` cell by typing `esc` and then `M` on your keyboard when you are in the cell. To switch back to code mode type `esc` &rarr; `Y`.\n",
    "\n",
    "`Markdown` is a simple programming language for creating formatted text using a plain-text editor. All the text cells in this notebook contain Markdown code. Visit the [Markdown Guide](https://www.markdownguide.org/) for a detailed presentation of the `Markdown` syntax.\n",
    "\n",
    "As a quick Markdown exercise, create a new cell below this one using the keyboard shortcut you have learned before and switch to `Markdown` mode. Type a short sentence in the cell and put the last word of the sentence between two double stars (**). What do you notice?\n"
   ]
  },
  {
   "cell_type": "markdown",
   "id": "bb0b075b-927e-4b79-a91a-7940f902d475",
   "metadata": {},
   "source": [
    "## 1.2 Variables\n",
    "\n",
    "### 1.2.1 Using variables\n",
    "\n",
    "When we want Python to store a result in memory, we need to assign it to a *variable*. To create a variable, we use the equality sign (=) and assign the result (or any object) to the variable name using the following syntax: `variable_name = object`.\n",
    "\n",
    "We can display the content of a variable using the function `print()`:\n",
    "\n",
    "`print(variable_name)`\n",
    "\n",
    "Or simply by typing the variable name:"
   ]
  },
  {
   "cell_type": "code",
   "execution_count": null,
   "id": "4bfb35c6-c5ae-4c5e-b8e9-8d3f2f160860",
   "metadata": {},
   "outputs": [],
   "source": [
    "x = 7\n",
    "print(x)\n",
    "x"
   ]
  },
  {
   "cell_type": "markdown",
   "id": "e28636c2-2135-40b9-8cbe-b8ce8988c70a",
   "metadata": {},
   "source": [
    "Change the value of the variable with a new assignment:"
   ]
  },
  {
   "cell_type": "code",
   "execution_count": null,
   "id": "e46ff25d-f645-4160-bd9f-ff1c0ee56b37",
   "metadata": {},
   "outputs": [],
   "source": [
    "x = 8\n",
    "x"
   ]
  },
  {
   "cell_type": "code",
   "execution_count": null,
   "id": "1fdec35d-091c-4812-bbc3-810bee29800e",
   "metadata": {},
   "outputs": [],
   "source": [
    "x = \"Madagascar\"\n",
    "x"
   ]
  },
  {
   "cell_type": "markdown",
   "id": "59d4295b-d9f0-4d00-b7ed-c0a5a6e5aa17",
   "metadata": {},
   "source": [
    "It is possible to create copies of a variable. The original variable will not be affected when changes are made to the copy:"
   ]
  },
  {
   "cell_type": "code",
   "execution_count": null,
   "id": "37939b42-34f0-4cbc-8014-ecaebe9e6b5e",
   "metadata": {},
   "outputs": [],
   "source": [
    "y = x\n",
    "y"
   ]
  },
  {
   "cell_type": "code",
   "execution_count": null,
   "id": "906bbde6-3341-48f0-beef-2ba36fce541a",
   "metadata": {},
   "outputs": [],
   "source": [
    "y = \"Antananarivo\"\n",
    "print(y)\n",
    "print(x)"
   ]
  },
  {
   "cell_type": "markdown",
   "id": "3c0185ab-f550-4797-90c4-f0e45d5c3183",
   "metadata": {},
   "source": [
    "A variable can be deleted with the instruction `del`:"
   ]
  },
  {
   "cell_type": "code",
   "execution_count": null,
   "id": "c5637d64-371c-4666-be63-c1a4a8918294",
   "metadata": {},
   "outputs": [],
   "source": [
    "del y \n",
    "y"
   ]
  },
  {
   "cell_type": "markdown",
   "id": "def42fa5-3b21-4427-bad9-83a92081e660",
   "metadata": {},
   "source": [
    "Variables can be incremented with the special operators `+=` and `*=` :"
   ]
  },
  {
   "cell_type": "code",
   "execution_count": null,
   "id": "8e98853e-971c-4900-9eda-dfe4fea9106c",
   "metadata": {},
   "outputs": [],
   "source": [
    "x = 0\n",
    "x += 1\n",
    "print(x)\n",
    "x += 1\n",
    "print(x)"
   ]
  },
  {
   "cell_type": "code",
   "execution_count": null,
   "id": "4af18092-72a1-4446-ac1a-59650385b1cd",
   "metadata": {},
   "outputs": [],
   "source": [
    "y = 1\n",
    "y *= 3\n",
    "print(y)\n",
    "y *= 3\n",
    "print(y)"
   ]
  },
  {
   "cell_type": "markdown",
   "id": "6e166dd9-75f1-49e5-94f1-1b3a3edddc53",
   "metadata": {},
   "source": [
    "### 1.2.2 Variable naming conventions\n",
    "\n",
    "As in most data science and statistics softwares: \n",
    "\n",
    "- Names of variables can only be composed of alphanumeric characters and the underscore (_).\n",
    "- Variable names cannot start with a numeric character.\n",
    "- It is prohibited to include spaces in variable names.\n",
    "\n",
    "In addition, to increase readability, it is recommended to only use lower case letters and to separate words by an underscore in variable names (i.e: use  `variable_name` and not `variablename` or `Variable_Name`).\n",
    "\n",
    "\n",
    "## 1.3 Modules and packages\n",
    "\n",
    "Most of the functions that you will use in `Python` are not available by default and you will need to load a `module` to use them. Modules are usually available within `packages`. The following three packages are usually the starting point for most data science work: \n",
    "\n",
    "- [NumPy](https://numpy.org/): for scientific computing.\n",
    "- [pandas](https://pandas.pydata.org/): for data analysis and manipulation.\n",
    "- [Matplotlib](https://matplotlib.org/): to create graphics.\n",
    "\n",
    "Use the function `import` to load a `package`. Ex:\n",
    "\n"
   ]
  },
  {
   "cell_type": "code",
   "execution_count": null,
   "id": "ce7a00b1-9378-47bf-a6c5-85ba206d6b99",
   "metadata": {},
   "outputs": [],
   "source": [
    "import pandas"
   ]
  },
  {
   "cell_type": "markdown",
   "id": "44171e9e-32dc-4d43-b3fa-0f932eb564b5",
   "metadata": {},
   "source": [
    "Because different functions included in separate modules or packages can share the same name, it is good practice to give an `alias` to the packages that you load: "
   ]
  },
  {
   "cell_type": "code",
   "execution_count": null,
   "id": "27ea6d10-410c-4e99-82d8-6ec87b4505e3",
   "metadata": {},
   "outputs": [],
   "source": [
    "import numpy as np\n",
    "import statistics as st\n",
    "\n",
    "data = [1, 2, 3, 4, 5]\n",
    "\n",
    "# mean de numpy\n",
    "print(np.mean(data))\n",
    "\n",
    "# mean de statistics\n",
    "print(st.mean(data))"
   ]
  },
  {
   "cell_type": "markdown",
   "id": "b7b6a516-cd07-4312-87fc-558590813235",
   "metadata": {},
   "source": [
    "You can also import a single function from a package as in this example:"
   ]
  },
  {
   "cell_type": "code",
   "execution_count": null,
   "id": "5d5a102b-63e3-4bb2-b644-9565b9bdc044",
   "metadata": {},
   "outputs": [],
   "source": [
    "import matplotlib.pyplot as plt\n",
    "\n",
    "x = np.arange(0, 10, 0.5)\n",
    "y = np.exp(x)\n",
    "plt.plot(x,y)"
   ]
  },
  {
   "cell_type": "markdown",
   "id": "02595938-7c8d-463a-9889-d34834505045",
   "metadata": {},
   "source": [
    "## 1.4 Help and documentation\n",
    "\n",
    "Type:\n",
    "- `?` to get an overview of `Python`'s main features.\n",
    "- `help()` to access the `Python` help system.\n",
    "- `object?` to get details about `object`.\n",
    "- `object??` to get more details about `object`.\n",
    "\n",
    "\n",
    "# 2. Types of data\n",
    "\n",
    "The main types of data that you will encounter in Python include:\n",
    "\n",
    "- numerical values.\n",
    "- strings.\n",
    "- booleans.\n",
    "- empty objects.\n",
    "\n",
    "\n",
    "## 2.1 Numerical values\n",
    "\n",
    "The two types of numerical objects that we will use in this course are: \n",
    "\n",
    "- integers (`int`).\n",
    "- floating point numbers (`float`).\n",
    "\n",
    "Use the `type()` function to print the type of a `Python` object:"
   ]
  },
  {
   "cell_type": "code",
   "execution_count": null,
   "id": "83e58df9-5bab-4c78-8d0b-781ce27c660b",
   "metadata": {},
   "outputs": [],
   "source": [
    "x = 2\n",
    "y = 3.25\n",
    "\n",
    "print(type(x))\n",
    "print(type(y))"
   ]
  },
  {
   "cell_type": "markdown",
   "id": "f15ae45b-cba9-4e3f-9aea-98a24e033804",
   "metadata": {},
   "source": [
    "You can use the `float` and `int` functions to convert objects from one type to the other (caution: `int` conversion truncates decimals):"
   ]
  },
  {
   "cell_type": "code",
   "execution_count": null,
   "id": "a358b369-6ff0-4da6-beb4-72ee5fd7f1fc",
   "metadata": {},
   "outputs": [],
   "source": [
    "print(float(x))\n",
    "print(int(y))"
   ]
  },
  {
   "cell_type": "markdown",
   "id": "94a68165-9d25-4202-8551-da965cf882c4",
   "metadata": {},
   "source": [
    "**Arithmetic operations:**"
   ]
  },
  {
   "cell_type": "code",
   "execution_count": null,
   "id": "2e171c25-ee5b-46e3-a7c9-f01f5c0bb2d3",
   "metadata": {},
   "outputs": [],
   "source": [
    "#Addition\n",
    "1 + 1"
   ]
  },
  {
   "cell_type": "code",
   "execution_count": null,
   "id": "f823736c-7792-471f-9c23-5a0db90c319b",
   "metadata": {},
   "outputs": [],
   "source": [
    "#Subtraction\n",
    "1-1"
   ]
  },
  {
   "cell_type": "code",
   "execution_count": null,
   "id": "a656f3a4-a2e7-4863-a462-60f3ede844cf",
   "metadata": {},
   "outputs": [],
   "source": [
    "#Multiplication\n",
    "2 * 2"
   ]
  },
  {
   "cell_type": "code",
   "execution_count": null,
   "id": "1f29a4fb-9d9d-40bd-928b-6df6cc0d6da5",
   "metadata": {},
   "outputs": [],
   "source": [
    "#Division\n",
    "4 / 2"
   ]
  },
  {
   "cell_type": "code",
   "execution_count": null,
   "id": "f1ee52ef-4414-4e23-8d39-fe4bf104f63a",
   "metadata": {},
   "outputs": [],
   "source": [
    "#Power\n",
    "2 ** 2"
   ]
  },
  {
   "cell_type": "code",
   "execution_count": null,
   "id": "ba5029fc-8ade-41cc-adcf-32ce722a632f",
   "metadata": {},
   "outputs": [],
   "source": [
    "#Square root\n",
    "4 ** 0.5"
   ]
  },
  {
   "cell_type": "markdown",
   "id": "814f4f69-6d41-468c-99d0-05eaf3f2ce33",
   "metadata": {},
   "source": [
    "## 2.2 Strings\n",
    "\n",
    "A string is a collection of [Unicode](https://en.wikipedia.org/wiki/Unicode) characters such as letters, numbers, punctuation marks, etc.\n",
    "\n",
    "Strings are defined with single or double quotation marks:"
   ]
  },
  {
   "cell_type": "code",
   "execution_count": null,
   "id": "ab3b3e48-636d-417f-9337-2884a8b41295",
   "metadata": {},
   "outputs": [],
   "source": [
    "x = \"Madagascar\"\n",
    "print(x)\n",
    "print(type(x))"
   ]
  },
  {
   "cell_type": "code",
   "execution_count": null,
   "id": "09c61d5e-0465-4011-90c8-a21fa79c1ce5",
   "metadata": {},
   "outputs": [],
   "source": [
    "#This also works:\n",
    "y = 'it works'\n",
    "\n",
    "#This doesn't work:\n",
    "z = 'I'm a genius'\n",
    "\n",
    "print(y)\n",
    "print(z)"
   ]
  },
  {
   "cell_type": "markdown",
   "id": "73f52556-d887-474f-a907-a5be54148341",
   "metadata": {},
   "source": [
    "Use the `len` function to count the number of characters in a string:"
   ]
  },
  {
   "cell_type": "code",
   "execution_count": null,
   "id": "01696069-6dd3-4391-934d-6ee786215e03",
   "metadata": {},
   "outputs": [],
   "source": [
    "len(x)"
   ]
  },
  {
   "cell_type": "markdown",
   "id": "26793c63-b569-439e-bc7a-d2441e58c7da",
   "metadata": {},
   "source": [
    "Strings can be concatenated..."
   ]
  },
  {
   "cell_type": "code",
   "execution_count": null,
   "id": "4b0621b9-4851-4714-9ff9-cc54a801ebde",
   "metadata": {},
   "outputs": [],
   "source": [
    "\"This is\" + \" \" + \"fun\""
   ]
  },
  {
   "cell_type": "markdown",
   "id": "50a34c46-4598-4220-b4eb-0b008432b011",
   "metadata": {},
   "source": [
    "... and repeated:"
   ]
  },
  {
   "cell_type": "code",
   "execution_count": null,
   "id": "042ca7a1-0ba1-4714-a754-4c882c528d6a",
   "metadata": {},
   "outputs": [],
   "source": [
    "\"fun \" * 3 + \"... !\""
   ]
  },
  {
   "cell_type": "markdown",
   "id": "9688dc76-7074-4931-9ac8-6c02da54595c",
   "metadata": {},
   "source": [
    "Each character in a string has an index corresponding to its order in the string sequence. We can use the index to extract specific characters from a string. **Important: indexing starts at 0 in Python**"
   ]
  },
  {
   "cell_type": "code",
   "execution_count": null,
   "id": "78797935-31cb-49d9-9c88-7b1e79fc8864",
   "metadata": {},
   "outputs": [],
   "source": [
    "#Extract 1st element of the sequence\n",
    "\"This is still fun !\"[0]"
   ]
  },
  {
   "cell_type": "code",
   "execution_count": null,
   "id": "9f5125c3-368a-4373-95b0-8a24e0b9586e",
   "metadata": {},
   "outputs": [],
   "source": [
    "#Extract 2nd element of the sequence\n",
    "\"This is still fun !\"[1]"
   ]
  },
  {
   "cell_type": "code",
   "execution_count": null,
   "id": "ec3aa12f-2fc2-4283-bf3a-75cdadb3f6bd",
   "metadata": {},
   "outputs": [],
   "source": [
    "#Extract last element of the sequence\n",
    "\"This is still fun !\"[-1]"
   ]
  },
  {
   "cell_type": "code",
   "execution_count": null,
   "id": "e44d649d-7aac-4821-ab61-35d4d13b6b11",
   "metadata": {},
   "outputs": [],
   "source": [
    "#Extract everything from a certain character\n",
    "\"This is still fun !\"[8:]"
   ]
  },
  {
   "cell_type": "code",
   "execution_count": null,
   "id": "38bc51d8-f848-49d1-a46d-265619dcdc3c",
   "metadata": {},
   "outputs": [],
   "source": [
    "#Extract everything up to a certain character\n",
    "\"This is still fun !\"[:7]"
   ]
  },
  {
   "cell_type": "code",
   "execution_count": null,
   "id": "ad7569b8-cee8-4e67-aca3-8456320fe675",
   "metadata": {},
   "outputs": [],
   "source": [
    "#Extract a substring\n",
    "\"This is still fun !\"[14:17]"
   ]
  },
  {
   "cell_type": "code",
   "execution_count": null,
   "id": "831601d0-d748-4b14-be92-15ea7b88eb9b",
   "metadata": {},
   "outputs": [],
   "source": [
    "#Extract every other element of the sequence\n",
    "\"This is still fun !\"[0::2]"
   ]
  },
  {
   "cell_type": "code",
   "execution_count": null,
   "id": "05cb9615-80ca-44e9-9a7b-e3124c75e5c5",
   "metadata": {},
   "outputs": [],
   "source": [
    "#Extract every three element of the sequence starting from the second and finishing at the 17th\n",
    "\"This is still fun !\"[1:17:2]"
   ]
  },
  {
   "cell_type": "code",
   "execution_count": null,
   "id": "e6b12986-2d7f-4461-9c28-6b56faa39510",
   "metadata": {},
   "outputs": [],
   "source": [
    "#Reverse a sequence\n",
    "\"This is still fun !\"[::-1]"
   ]
  },
  {
   "cell_type": "markdown",
   "id": "edeb7245-dd05-49db-9271-d8bb9c919c38",
   "metadata": {},
   "source": [
    "The general syntax is `x[a:b:c]` where `a` is the position of the starting character, `b` the position of the ending character, and `c` the indexing step (remember: **indexing starts at 0**)."
   ]
  },
  {
   "cell_type": "markdown",
   "id": "ed57af49-ce09-4416-a343-d65143902e47",
   "metadata": {},
   "source": [
    "## 2.3 Booleans\n",
    "\n",
    "`Booleans` are logical data which take either the value `True` or `False`. Caution: case is important for the data to be recognized as boolean."
   ]
  },
  {
   "cell_type": "code",
   "execution_count": null,
   "id": "7305ea19-ceec-4b98-b6e8-4386d1af5f1b",
   "metadata": {},
   "outputs": [],
   "source": [
    "x = True\n",
    "y = False\n",
    "print(x, y)"
   ]
  },
  {
   "cell_type": "markdown",
   "id": "d97377b3-2eef-4606-9d03-06e3caa2712c",
   "metadata": {},
   "source": [
    "`Python` will automatically convert `boolean` data to 1 (for `True`) and 0 (for `False`):"
   ]
  },
  {
   "cell_type": "code",
   "execution_count": null,
   "id": "1a0f685f-7ccd-4219-a2eb-8ef72444cdc5",
   "metadata": {},
   "outputs": [],
   "source": [
    "boo = True + False + True + False + True\n",
    "print(boo)"
   ]
  },
  {
   "cell_type": "markdown",
   "id": "c0db19ad-e3e5-4ed6-bdae-2bff51cd5e2f",
   "metadata": {},
   "source": [
    "## 2.4 Empty objects\n",
    "\n",
    "Empty objects take the value `None` and have the class `NoneType`:"
   ]
  },
  {
   "cell_type": "code",
   "execution_count": null,
   "id": "af6a414b-d8bb-4069-b463-7bfe1d1704fd",
   "metadata": {},
   "outputs": [],
   "source": [
    "x = None\n",
    "print(type(x))"
   ]
  },
  {
   "cell_type": "markdown",
   "id": "75b45cad-6129-4c50-99b0-2dc387c4fb9e",
   "metadata": {},
   "source": [
    "One can test if an object is empty with the following approach:"
   ]
  },
  {
   "cell_type": "code",
   "execution_count": null,
   "id": "9fab0970-f8eb-40b8-a209-db0630e42b7e",
   "metadata": {},
   "outputs": [],
   "source": [
    "print(x is None)"
   ]
  },
  {
   "cell_type": "markdown",
   "id": "b29630b5-8993-4176-aa47-8017f9025327",
   "metadata": {},
   "source": [
    "# 3. Structures "
   ]
  },
  {
   "cell_type": "code",
   "execution_count": 104,
   "id": "cbcff1c3-3a40-4e1e-b195-071c2730ea27",
   "metadata": {
    "jupyter": {
     "source_hidden": true
    }
   },
   "outputs": [
    {
     "data": {
      "text/html": [
       "\n",
       "<style>\n",
       "/* cible le HTML rendu par JupyterLab et force l'application */\n",
       ".jp-RenderedHTMLCommon .callout.callout-tip {\n",
       "  border-left: 6px solid #2ecc71 !important;\n",
       "  background-color: #ecfdf5 !important;\n",
       "  border-radius: 6px !important;\n",
       "  padding: 0.8em 1em !important;\n",
       "  margin: 1em 0 !important;\n",
       "  font-family: sans-serif !important;\n",
       "}\n",
       "\n",
       "/* en-tête */\n",
       ".jp-RenderedHTMLCommon .callout-header {\n",
       "  display: flex !important;\n",
       "  align-items: center !important;\n",
       "  font-weight: 700 !important;\n",
       "  color: #065f46 !important;\n",
       "  margin-bottom: 0.5em !important;\n",
       "}\n",
       "\n",
       "/* icône (pseudo-élément) */\n",
       ".jp-RenderedHTMLCommon .callout-icon::before {\n",
       "  content: \"💡\" !important;\n",
       "  margin-right: 0.5em !important;\n",
       "  font-size: 1.2em !important;\n",
       "}\n",
       "\n",
       "/* corps : listes */\n",
       ".jp-RenderedHTMLCommon .callout-body ul {\n",
       "  margin: 0 0 0 1.25em !important;\n",
       "  padding: 0 !important;\n",
       "}\n",
       "</style>\n"
      ],
      "text/plain": [
       "<IPython.core.display.HTML object>"
      ]
     },
     "metadata": {},
     "output_type": "display_data"
    }
   ],
   "source": [
    "from IPython.display import HTML, display\n",
    "\n",
    "display(HTML(\"\"\"\n",
    "<style>\n",
    "/* cible le HTML rendu par JupyterLab et force l'application */\n",
    ".jp-RenderedHTMLCommon .callout.callout-tip {\n",
    "  border-left: 6px solid #2ecc71 !important;\n",
    "  background-color: #ecfdf5 !important;\n",
    "  border-radius: 6px !important;\n",
    "  padding: 0.8em 1em !important;\n",
    "  margin: 1em 0 !important;\n",
    "  font-family: sans-serif !important;\n",
    "}\n",
    "\n",
    "/* en-tête */\n",
    ".jp-RenderedHTMLCommon .callout-header {\n",
    "  display: flex !important;\n",
    "  align-items: center !important;\n",
    "  font-weight: 700 !important;\n",
    "  color: #065f46 !important;\n",
    "  margin-bottom: 0.5em !important;\n",
    "}\n",
    "\n",
    "/* icône (pseudo-élément) */\n",
    ".jp-RenderedHTMLCommon .callout-icon::before {\n",
    "  content: \"💡\" !important;\n",
    "  margin-right: 0.5em !important;\n",
    "  font-size: 1.2em !important;\n",
    "}\n",
    "\n",
    "/* corps : listes */\n",
    ".jp-RenderedHTMLCommon .callout-body ul {\n",
    "  margin: 0 0 0 1.25em !important;\n",
    "  padding: 0 !important;\n",
    "}\n",
    "</style>\n",
    "\"\"\"))\n"
   ]
  }
 ],
 "metadata": {
  "kernelspec": {
   "display_name": "Python 3 (ipykernel)",
   "language": "python",
   "name": "python3"
  },
  "language_info": {
   "codemirror_mode": {
    "name": "ipython",
    "version": 3
   },
   "file_extension": ".py",
   "mimetype": "text/x-python",
   "name": "python",
   "nbconvert_exporter": "python",
   "pygments_lexer": "ipython3",
   "version": "3.13.7"
  }
 },
 "nbformat": 4,
 "nbformat_minor": 5
}
