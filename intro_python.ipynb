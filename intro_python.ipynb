{
 "cells": [
  {
   "cell_type": "markdown",
   "id": "ffb774f5-59c6-46a7-ae45-d486c25681d5",
   "metadata": {},
   "source": [
    "# Introduction to the Python programming language\n",
    "\n",
    "Thomas Thivillon\n",
    "\n",
    "2025-09-22 \n",
    "\n",
    "# 1. Introduction\n",
    "\n",
    "This chapter provides an introduction to `Python` programming in the `JupyterLab` interactive development environment (IDE). This notebook was prepared for `Python` version 3.x.\n",
    "\n",
    "<div class=\"callout callout-tip\">\n",
    "  <div class=\"callout-header\">\n",
    "    <div class=\"callout-icon\"></div>\n",
    "    Contents covered in this chapter:\n",
    "  </div>\n",
    "  <div class=\"callout-body\">\n",
    "    <ul>\n",
    "      <li>Types of data in Python</li>\n",
    "      <li>Structures</li>\n",
    "      <li>Operators and conditions</li>\n",
    "      <li>Loops and functions</li>\n",
    "    </ul>\n",
    "  </div>\n",
    "</div>\n",
    "\n",
    "\n",
    "## 1.1 JupyterLab and Jupyter Notebook\n",
    "\n",
    "`Jupyter Notebook` is a web-based application for creating and sharing computational documents that contain code and text (as well as equations and graphs). It can be used with R, Julia, and other languages in addition to Python. \n",
    "\n",
    "`JupyterLab` is an interactive development environment designed as a multi-document interface. It allows users to work with several notebooks and with an integrated terminal in the same interface. In this course we will work with `JupyterLab` because it is supported by `SSP Cloud.\n",
    "\n",
    "### 1.1.1 Notebooks\n",
    "\n",
    "You are currently in a notebook that I have created. You can open a new `cell` by typing `alt` + `Enter`. Try it out now: click on the current cell and type `alt` + `Enter`.\n",
    "\n",
    "Once the cell is created you can type `ctrl` + `enter` to execute it. Try it out now. Then type `D` twice to delete the cell."
   ]
  },
  {
   "cell_type": "markdown",
   "id": "78d120d8-f94c-4fab-b571-dc98d3a3d97f",
   "metadata": {},
   "source": [
    "### 1.1.2 Evaluation of an instruction\n",
    "\n",
    "Now let's open a new cell again below the current one and write the following instruction:\n",
    "\n",
    "`2 + 1`\n",
    "\n",
    "Once again to submit/execute the instruction, the fastest way is the keyboard shortcut: `ctrl` + `Enter`. Try it now."
   ]
  },
  {
   "cell_type": "markdown",
   "id": "7255f180-c7fc-4558-b2a5-b9cd206eb6e9",
   "metadata": {},
   "source": [
    "### 1.1.3 Using Markdown cells to comment your code\n",
    "\n",
    "When you first create a new cell, it is defined as a code cell. You can switch to a `Markdown` cell by typing `esc` and then `M` on your keyboard when you are in the cell. To switch back to code mode type `esc` &rarr; `Y`.\n",
    "\n",
    "`Markdown` is a simple programming language for creating formatted text using a plain-text editor. All the text cells in this notebook contain Markdown code. Visit the [Markdown Guide](https://www.markdownguide.org/) for a detailed presentation of the `Markdown` syntax.\n",
    "\n",
    "As a quick Markdown exercise, create a new cell below this one using the keyboard shortcut you have learned before and switch to `Markdown` mode. Type a short sentence in the cell and put the last word of the sentence between two double stars (**). What do you notice?\n"
   ]
  },
  {
   "cell_type": "markdown",
   "id": "bb0b075b-927e-4b79-a91a-7940f902d475",
   "metadata": {},
   "source": [
    "## 1.2 Variables\n",
    "\n"
   ]
  },
  {
   "cell_type": "code",
   "execution_count": 7,
   "id": "31e33a46-beb1-4f5d-9545-9e165636182c",
   "metadata": {
    "jupyter": {
     "source_hidden": true
    }
   },
   "outputs": [
    {
     "data": {
      "text/html": [
       "\n",
       "<style>\n",
       "/* cible le HTML rendu par JupyterLab et force l'application */\n",
       ".jp-RenderedHTMLCommon .callout.callout-tip {\n",
       "  border-left: 6px solid #2ecc71 !important;\n",
       "  background-color: #ecfdf5 !important;\n",
       "  border-radius: 6px !important;\n",
       "  padding: 0.8em 1em !important;\n",
       "  margin: 1em 0 !important;\n",
       "  font-family: sans-serif !important;\n",
       "}\n",
       "\n",
       "/* en-tête */\n",
       ".jp-RenderedHTMLCommon .callout-header {\n",
       "  display: flex !important;\n",
       "  align-items: center !important;\n",
       "  font-weight: 700 !important;\n",
       "  color: #065f46 !important;\n",
       "  margin-bottom: 0.5em !important;\n",
       "}\n",
       "\n",
       "/* icône (pseudo-élément) */\n",
       ".jp-RenderedHTMLCommon .callout-icon::before {\n",
       "  content: \"💡\" !important;\n",
       "  margin-right: 0.5em !important;\n",
       "  font-size: 1.2em !important;\n",
       "}\n",
       "\n",
       "/* corps : listes */\n",
       ".jp-RenderedHTMLCommon .callout-body ul {\n",
       "  margin: 0 0 0 1.25em !important;\n",
       "  padding: 0 !important;\n",
       "}\n",
       "</style>\n"
      ],
      "text/plain": [
       "<IPython.core.display.HTML object>"
      ]
     },
     "metadata": {},
     "output_type": "display_data"
    }
   ],
   "source": [
    "from IPython.display import HTML, display\n",
    "\n",
    "display(HTML(\"\"\"\n",
    "<style>\n",
    "/* cible le HTML rendu par JupyterLab et force l'application */\n",
    ".jp-RenderedHTMLCommon .callout.callout-tip {\n",
    "  border-left: 6px solid #2ecc71 !important;\n",
    "  background-color: #ecfdf5 !important;\n",
    "  border-radius: 6px !important;\n",
    "  padding: 0.8em 1em !important;\n",
    "  margin: 1em 0 !important;\n",
    "  font-family: sans-serif !important;\n",
    "}\n",
    "\n",
    "/* en-tête */\n",
    ".jp-RenderedHTMLCommon .callout-header {\n",
    "  display: flex !important;\n",
    "  align-items: center !important;\n",
    "  font-weight: 700 !important;\n",
    "  color: #065f46 !important;\n",
    "  margin-bottom: 0.5em !important;\n",
    "}\n",
    "\n",
    "/* icône (pseudo-élément) */\n",
    ".jp-RenderedHTMLCommon .callout-icon::before {\n",
    "  content: \"💡\" !important;\n",
    "  margin-right: 0.5em !important;\n",
    "  font-size: 1.2em !important;\n",
    "}\n",
    "\n",
    "/* corps : listes */\n",
    ".jp-RenderedHTMLCommon .callout-body ul {\n",
    "  margin: 0 0 0 1.25em !important;\n",
    "  padding: 0 !important;\n",
    "}\n",
    "</style>\n",
    "\"\"\"))\n"
   ]
  }
 ],
 "metadata": {
  "kernelspec": {
   "display_name": "Python 3 (ipykernel)",
   "language": "python",
   "name": "python3"
  },
  "language_info": {
   "codemirror_mode": {
    "name": "ipython",
    "version": 3
   },
   "file_extension": ".py",
   "mimetype": "text/x-python",
   "name": "python",
   "nbconvert_exporter": "python",
   "pygments_lexer": "ipython3",
   "version": "3.13.7"
  }
 },
 "nbformat": 4,
 "nbformat_minor": 5
}
