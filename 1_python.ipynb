{
 "cells": [
  {
   "cell_type": "markdown",
   "id": "5ea5a657-9b7f-4a4a-8022-10a6100dcefa",
   "metadata": {},
   "source": [
    "# Lab: Review of Python programming language"
   ]
  },
  {
   "cell_type": "markdown",
   "id": "ba67fbd0-e961-44c8-b045-b289bbfd1f9c",
   "metadata": {},
   "source": [
    "## Basic commands"
   ]
  },
  {
   "cell_type": "markdown",
   "id": "e8fae0b3-fc87-4799-9b69-9adcc65f3fe3",
   "metadata": {},
   "source": [
    "```print()``` function outputs a text representation of all of its arguments to the console."
   ]
  },
  {
   "cell_type": "code",
   "execution_count": null,
   "id": "b49b8ae4-8cc0-4dc0-b56f-b510bf981c9c",
   "metadata": {},
   "outputs": [],
   "source": [
    "print('fit a model with', 1011, 'variables')\n"
   ]
  },
  {
   "cell_type": "markdown",
   "id": "285c4f32-e7b8-4373-9e1f-e4eaba70c227",
   "metadata": {},
   "source": [
    "The following command is providing more information about the ```print()``` function."
   ]
  },
  {
   "cell_type": "code",
   "execution_count": null,
   "id": "5d607ae9-aea2-4b60-89ff-41122fb86183",
   "metadata": {},
   "outputs": [],
   "source": [
    "print?"
   ]
  },
  {
   "cell_type": "markdown",
   "id": "45652979-4bb6-431f-a532-32bc71160f44",
   "metadata": {},
   "source": [
    "The three most important types of sequences are lists, tuples, and sets and dictionaries.\n"
   ]
  },
  {
   "cell_type": "markdown",
   "id": "19f2d94d-32e9-4066-88b7-7f9a215c3dbe",
   "metadata": {},
   "source": [
    "Textual data is handled using *strings*. For instance, `\"Allez\"` and `'l'OM'`are strings. We can concatenate them as follow:"
   ]
  },
  {
   "cell_type": "code",
   "execution_count": null,
   "id": "2f4810d1-e3ef-4e5b-8083-ba3d20bdf849",
   "metadata": {},
   "outputs": [],
   "source": [
    "\"Hello\" + \" \" + \"World\""
   ]
  },
  {
   "cell_type": "markdown",
   "id": "e6667101-dd2b-433e-84f2-e9cc9f1ccee1",
   "metadata": {},
   "source": [
    "_Lists_: Lists are one of the most flexible structures in Python. A list is a grouping of values.\n",
    "The creation of a list is done by writing the values by separating them with a comma\n",
    "and surrounding them by square brackets ([ and ]).\n",
    "\n",
    "Ask python to join together the numbers 3,4, and 5, and to save them as a list named `x`. Typing `x` gives us its content."
   ]
  },
  {
   "cell_type": "code",
   "execution_count": 8,
   "id": "33473476-85bc-4c57-a6ee-482d6b37a202",
   "metadata": {},
   "outputs": [
    {
     "data": {
      "text/plain": [
       "[3, 4, 5]"
      ]
     },
     "execution_count": 8,
     "metadata": {},
     "output_type": "execute_result"
    }
   ],
   "source": [
    "x = [3,4,5]\n",
    "x"
   ]
  },
  {
   "cell_type": "markdown",
   "id": "7eadd252",
   "metadata": {},
   "source": [
    "Copying a list: Be careful, copying a list in Python is achieved by using the list() function not by using the equal sign.\n",
    "\n"
   ]
  },
  {
   "cell_type": "code",
   "execution_count": 12,
   "id": "bbac1187",
   "metadata": {},
   "outputs": [
    {
     "name": "stdout",
     "output_type": "stream",
     "text": [
      "[0, 4, 5]\n",
      "[0, 4, 5]\n",
      "[0, 4, 5]\n"
     ]
    }
   ],
   "source": [
    "y=x\n",
    "print(x)\n",
    "print(y)\n",
    "\n",
    "y[0] = 0\n",
    "print(y)"
   ]
  },
  {
   "cell_type": "code",
   "execution_count": 11,
   "id": "678eb832",
   "metadata": {
    "scrolled": true
   },
   "outputs": [
    {
     "name": "stdout",
     "output_type": "stream",
     "text": [
      "[0, 4, 5]\n"
     ]
    }
   ],
   "source": [
    "print(x)"
   ]
  },
  {
   "cell_type": "code",
   "execution_count": 14,
   "id": "17bafcfd",
   "metadata": {},
   "outputs": [
    {
     "name": "stdout",
     "output_type": "stream",
     "text": [
      "x :  [3, 4, 5]\n"
     ]
    }
   ],
   "source": [
    "x = [3, 4, 5]\n",
    "y = list(x)\n",
    "y[0] = 0\n",
    "print(\"x : \", x)"
   ]
  },
  {
   "cell_type": "code",
   "execution_count": 16,
   "id": "0c79fc42",
   "metadata": {},
   "outputs": [
    {
     "name": "stdout",
     "output_type": "stream",
     "text": [
      "y :  [0, 4, 5]\n"
     ]
    }
   ],
   "source": [
    "print(\"y : \", y)"
   ]
  },
  {
   "cell_type": "code",
   "execution_count": 22,
   "id": "077e52b7-2921-45b6-8004-17a382c3197b",
   "metadata": {},
   "outputs": [
    {
     "name": "stdout",
     "output_type": "stream",
     "text": [
      "<class 'list'>\n",
      "['Lea', 'Tom', 'Zoe']\n"
     ]
    }
   ],
   "source": [
    "a = [\"Lea\", \"Tom\", \"Zoe\"]\n",
    "print(type(a))\n",
    "b = list(a)\n",
    "b[1] = \"Bob\"\n",
    "print(a)"
   ]
  },
  {
   "cell_type": "markdown",
   "id": "b26da13b",
   "metadata": {},
   "source": [
    "_Tuples_: Tuples are sequences of Python objects. To create a tuple, one lists the values, separated by commas. Unlike lists, tuplets are inalterable (i.e. cannot be modified after they have been created)."
   ]
  },
  {
   "cell_type": "code",
   "execution_count": 23,
   "id": "a56f52bd",
   "metadata": {},
   "outputs": [
    {
     "name": "stdout",
     "output_type": "stream",
     "text": [
      "(1, 4, 9, 16, 25)\n",
      "<class 'tuple'>\n"
     ]
    }
   ],
   "source": [
    "x = (1, 4, 9, 16, 25)\n",
    "print(x)\n",
    "print(type(x))"
   ]
  },
  {
   "cell_type": "code",
   "execution_count": 26,
   "id": "28411033",
   "metadata": {
    "scrolled": true
   },
   "outputs": [
    {
     "data": {
      "text/plain": [
       "9"
      ]
     },
     "execution_count": 26,
     "metadata": {},
     "output_type": "execute_result"
    }
   ],
   "source": [
    "x[2]"
   ]
  },
  {
   "cell_type": "markdown",
   "id": "ad227122",
   "metadata": {},
   "source": [
    "_Sets_: Sets are unordered collections of unique elements. Sets are unalterable. Unlike tuples, sets are not\n",
    "indexed."
   ]
  },
  {
   "cell_type": "code",
   "execution_count": 38,
   "id": "682b4a96",
   "metadata": {},
   "outputs": [
    {
     "name": "stdout",
     "output_type": "stream",
     "text": [
      "{'Nice', 'Rennes', 'Aix-en-Provence', 'Bordeaux', 'Lyon'}\n"
     ]
    }
   ],
   "source": [
    "new_set = {\"Bordeaux\", \"Aix-en-Provence\", \"Nice\", \"Rennes\"}\n",
    "other_set = {\"Nice\", \"Rennes\", \"Lyon\"}\n",
    "third_set = new_set | other_set\n",
    "\n",
    "print(third_set)"
   ]
  },
  {
   "cell_type": "markdown",
   "id": "d4cd4c9e",
   "metadata": {},
   "source": [
    "_Dictionaries_: Python dictionaries are an implementation of key-value objects, the keys being\n",
    "indexed. Keys are often text, values can be of different types and structures. To create a dictionary, you can proceed by using braces ({})."
   ]
  },
  {
   "cell_type": "code",
   "execution_count": 39,
   "id": "7805862d",
   "metadata": {},
   "outputs": [
    {
     "name": "stdout",
     "output_type": "stream",
     "text": [
      "{'nom': 'Kyrie', 'prenom': 'John', 'naissance': 1992, 'equipes': ['Cleveland', 'Boston']}\n"
     ]
    }
   ],
   "source": [
    "my_dict = { \"nom\": \"Kyrie\",\n",
    "\"prenom\": \"John\",\n",
    "\"naissance\": 1992,\n",
    "\"equipes\": [\"Cleveland\", \"Boston\"]}\n",
    "print(my_dict)"
   ]
  },
  {
   "cell_type": "code",
   "execution_count": 40,
   "id": "01556f06",
   "metadata": {},
   "outputs": [
    {
     "name": "stdout",
     "output_type": "stream",
     "text": [
      "['Cleveland', 'Boston']\n"
     ]
    }
   ],
   "source": [
    "print(my_dict[\"equipes\"])"
   ]
  },
  {
   "cell_type": "code",
   "execution_count": 41,
   "id": "12778317",
   "metadata": {},
   "outputs": [
    {
     "name": "stdout",
     "output_type": "stream",
     "text": [
      "{'nom': 'Kyrie', 'prenom': 'John', 'naissance': 1992, 'equipes': ['Montclair Kimberley Academy', 'Cleveland Cavaliers', 'Boston Celtics']}\n"
     ]
    }
   ],
   "source": [
    "my_dict[\"equipes\"] = [\"Montclair Kimberley Academy\",\n",
    "\"Cleveland Cavaliers\", \"Boston Celtics\"]\n",
    "print(my_dict)"
   ]
  },
  {
   "cell_type": "markdown",
   "id": "fb0f88c1-9eab-4e9b-8918-645654991095",
   "metadata": {},
   "source": [
    "## Numerical Python or `numpy`"
   ]
  },
  {
   "cell_type": "markdown",
   "id": "051e6667-a6fd-43e1-b9d7-3e1d6d3639ef",
   "metadata": {},
   "source": [
    "Import `numpy` to use it."
   ]
  },
  {
   "cell_type": "code",
   "execution_count": 43,
   "id": "b458d658-79d5-48d2-a96e-f28bef6b8956",
   "metadata": {},
   "outputs": [],
   "source": [
    "import numpy as np"
   ]
  },
  {
   "cell_type": "markdown",
   "id": "2b5d1886-3a3e-454c-b969-0c74827d46f8",
   "metadata": {},
   "source": [
    "We named the `numpy` package `np` to ease its utilization. "
   ]
  },
  {
   "cell_type": "markdown",
   "id": "a7b986b6-7922-410f-a572-323a3a60e14c",
   "metadata": {},
   "source": [
    "`Numpy` contains several functions to do numerical calculation in python. On of them is `np.array()` to define `x' and `y', which are vectors."
   ]
  },
  {
   "cell_type": "code",
   "execution_count": 47,
   "id": "8b0088e8-8391-4b68-9104-c3184287ba1a",
   "metadata": {},
   "outputs": [
    {
     "name": "stdout",
     "output_type": "stream",
     "text": [
      "[3 4 5] [4 9 7]\n"
     ]
    }
   ],
   "source": [
    "x = np.array([3, 4, 5])\n",
    "y = np.array([4, 9, 7])\n",
    "print(x, y)"
   ]
  },
  {
   "cell_type": "code",
   "execution_count": 48,
   "id": "099c2590-42b4-4dea-96de-7047f75d55c7",
   "metadata": {},
   "outputs": [
    {
     "data": {
      "text/plain": [
       "array([ 7, 13, 12])"
      ]
     },
     "execution_count": 48,
     "metadata": {},
     "output_type": "execute_result"
    }
   ],
   "source": [
    "x + y "
   ]
  },
  {
   "cell_type": "markdown",
   "id": "979bc151-7f0b-4103-82b5-4d83ccef7df8",
   "metadata": {},
   "source": [
    "We can also create matrices (i.e., 2D arrays). Can either use `np.matrix()` or `np.array()`. Let's use `np.array`. Pay attention to the synthax to create it."
   ]
  },
  {
   "cell_type": "code",
   "execution_count": 51,
   "id": "742fb4c0-e888-4b5c-83bc-2e8b1aad29cb",
   "metadata": {},
   "outputs": [
    {
     "data": {
      "text/plain": [
       "array([[1, 2],\n",
       "       [3, 4]])"
      ]
     },
     "execution_count": 51,
     "metadata": {},
     "output_type": "execute_result"
    }
   ],
   "source": [
    "x = np.array([[1,2], [3,4]]) \n",
    "x"
   ]
  },
  {
   "cell_type": "markdown",
   "id": "9b585470-3375-428c-918d-bb5025998388",
   "metadata": {},
   "source": [
    "`x` has several _attributes_ that can be access using `x.attribute` after replacing `attribute` by the name of the attribute in which we are interested. For instance, we can check its dimension, data type, shape. For more, just see `np.array`"
   ]
  },
  {
   "cell_type": "code",
   "execution_count": 49,
   "id": "d01b34b9-1f80-4b89-b390-73d1ccba3ed3",
   "metadata": {},
   "outputs": [
    {
     "data": {
      "text/plain": [
       "1"
      ]
     },
     "execution_count": 49,
     "metadata": {},
     "output_type": "execute_result"
    }
   ],
   "source": [
    "x.ndim #Its a 2D array"
   ]
  },
  {
   "cell_type": "code",
   "execution_count": 53,
   "id": "12567297-37ba-494a-942d-92227fdb6c6a",
   "metadata": {},
   "outputs": [
    {
     "data": {
      "text/plain": [
       "dtype('int64')"
      ]
     },
     "execution_count": 53,
     "metadata": {},
     "output_type": "execute_result"
    }
   ],
   "source": [
    "x.dtype #x is composed of 32-bit integers"
   ]
  },
  {
   "cell_type": "code",
   "execution_count": 52,
   "id": "690c76dd-b806-4a72-91c6-04799b39a1a6",
   "metadata": {
    "scrolled": true
   },
   "outputs": [
    {
     "data": {
      "text/plain": [
       "(2, 2)"
      ]
     },
     "execution_count": 52,
     "metadata": {},
     "output_type": "execute_result"
    }
   ],
   "source": [
    "x.shape  #has two rows and two columns"
   ]
  },
  {
   "cell_type": "markdown",
   "id": "7e9f4e68-f0fa-4546-bac2-6fdce5a430fd",
   "metadata": {},
   "source": [
    "We can access the different values of the array using `x[i,j]` with _i_ the row number and _j_ the column number. **Indexation starts at 0**, meaning that to access the first row and first column we have to type the following"
   ]
  },
  {
   "cell_type": "code",
   "execution_count": 55,
   "id": "55881e0f-eb4e-4ec2-8e9a-0debf31bfa7d",
   "metadata": {},
   "outputs": [
    {
     "data": {
      "text/plain": [
       "np.int64(4)"
      ]
     },
     "execution_count": 55,
     "metadata": {},
     "output_type": "execute_result"
    }
   ],
   "source": [
    "x[1,1]"
   ]
  },
  {
   "cell_type": "markdown",
   "id": "fd9c99cd-2bc4-4526-96cb-b0592449df3b",
   "metadata": {},
   "source": [
    "We can apply mathematical functions to any arrays. For instance `np.sqrt(x)` returns the square root of x, `x**2` squares it. "
   ]
  },
  {
   "cell_type": "markdown",
   "id": "33633f5a-2d64-4f22-8d12-1557dbd5c8a3",
   "metadata": {},
   "source": [
    "We are going to generate random data during this class. To do it, we will rely mostly on the `np.random.normal()` function to create vector of random normal variables. The function takes 3 arguments `normal(loc=0.0, scale=1.0, size=None)`. By default, it generates random normal variables with mean (`loc`) **0**, standard deviation (`scale`) **1**, and only one variable unless we change `size`."
   ]
  },
  {
   "cell_type": "markdown",
   "id": "d797cf78-7ee4-4e1f-b122-90736d081814",
   "metadata": {},
   "source": [
    "We now generate 100 independent random variables from a ***N*****(0,1)** distribution."
   ]
  },
  {
   "cell_type": "code",
   "execution_count": 58,
   "id": "90abea52-ad70-444b-8b09-675884a0a37a",
   "metadata": {},
   "outputs": [
    {
     "data": {
      "text/plain": [
       "array([ 2.33715895, -0.06841046, -0.49550659,  0.23836438, -1.36827669,\n",
       "       -0.88480899, -0.81075619, -0.9115945 ,  1.89678305, -1.08143887,\n",
       "       -0.12567404, -0.35856726,  1.06746492,  0.74452534, -0.27958082,\n",
       "       -0.1258552 , -0.45820573,  1.54526616, -0.26659247, -0.93637426,\n",
       "        0.27206197, -1.3066003 , -0.26548566,  1.30143653, -0.13248352,\n",
       "        0.72423968, -0.52807105, -1.38537627,  0.33854749, -1.45342341,\n",
       "        0.48165872,  0.16011977, -0.02990119, -2.45199857,  0.72516924,\n",
       "       -0.19445249,  0.94837877, -0.20054076,  0.4063423 ,  0.33605471,\n",
       "       -1.4605786 , -0.4906191 ,  0.61131364,  0.79144505, -0.14623271,\n",
       "        0.59497359, -0.66766837,  0.64447261,  0.82003816,  0.52432044,\n",
       "       -0.18614156, -0.3306153 , -0.89079857, -0.55932931, -1.5127229 ,\n",
       "       -0.34515318, -1.0517245 , -2.22883894,  1.5428212 ,  0.29347185,\n",
       "        0.39890247, -1.04657275, -0.46935962, -0.36768161, -0.51395944,\n",
       "       -0.58662724,  1.36166545,  0.31785455,  1.1518324 ,  0.1605436 ,\n",
       "       -0.06358453,  1.20089144, -2.59254358, -0.62427021,  1.60010761,\n",
       "       -1.35349614, -0.06471892,  0.23286321,  1.09058718,  0.08994126,\n",
       "        1.97121977,  0.11217044, -0.78889262,  2.33317193, -0.24064512,\n",
       "       -0.30735333, -0.88357043,  0.72657145, -0.14521267,  0.52208705,\n",
       "       -0.64962759, -0.06011212, -1.37065735, -0.26120052,  0.78165888,\n",
       "        0.20635729,  0.41903791, -0.43954109, -1.08200352,  0.89654379])"
      ]
     },
     "execution_count": 58,
     "metadata": {},
     "output_type": "execute_result"
    }
   ],
   "source": [
    "#Run it few times, what do you observe?\n",
    "x = np.random.normal(size=100)\n",
    "x"
   ]
  },
  {
   "cell_type": "markdown",
   "id": "587ecf36-f19c-481a-8c3f-e5ecfab48b58",
   "metadata": {},
   "source": [
    "In order to ensure that our code provides exactly the same results each time it is run, we can set a random seed using the `np.random.default_rng()` function. If we set a random seed before generating random data, then re-running our code will yield the same results. Hence, to generate normal data we use `rng.normal()`."
   ]
  },
  {
   "cell_type": "code",
   "execution_count": 62,
   "id": "21ed671a-5b4e-48ac-8a8c-ed55223c4a27",
   "metadata": {
    "scrolled": true
   },
   "outputs": [
    {
     "name": "stdout",
     "output_type": "stream",
     "text": [
      "[ 4.09482632 -1.07485605]\n",
      "[  4.09482632  -1.07485605 -10.15364596   1.13406146  -4.14030566]\n"
     ]
    }
   ],
   "source": [
    "rng = np.random.default_rng(1303)\n",
    "print(rng.normal(scale=5, size=2))\n",
    "\n",
    "rng2 = np.random.default_rng(1303)\n",
    "print(rng2.normal(scale=5, size=5))"
   ]
  },
  {
   "cell_type": "code",
   "execution_count": null,
   "id": "5773ae7f",
   "metadata": {},
   "outputs": [],
   "source": [
    "np.random?"
   ]
  },
  {
   "cell_type": "markdown",
   "id": "aec2c360-0d75-4c0d-a30b-f84c800b4883",
   "metadata": {},
   "source": [
    "## Graphics"
   ]
  },
  {
   "cell_type": "markdown",
   "id": "60291de7-26fd-4dec-88cd-a420d1978101",
   "metadata": {},
   "source": [
    "Its common to use `matplotlib` for graphics. In `matplotlib`, a plot consists of a figure and one or more axes. The axes contain important information about each plot, such as its axis labels, or title.\n",
    "\n",
    "We first import the `subplots()` function from `matplotlib`. The function returns a tuple of length two: a figure object as well as the relevant axes object. We will typically pass figsize as a keyword argument. Having created our axes, we attempt our first plot using its plot() method. To learn more about it, type `ax.plot?`."
   ]
  },
  {
   "cell_type": "code",
   "execution_count": 63,
   "id": "42b37638-b1ee-4c5b-9012-05901601811a",
   "metadata": {},
   "outputs": [],
   "source": [
    "from matplotlib.pyplot import subplots"
   ]
  },
  {
   "cell_type": "code",
   "execution_count": 68,
   "id": "e0a93586-5fd8-4cc1-9621-a7c7396a105c",
   "metadata": {},
   "outputs": [
    {
     "name": "stdout",
     "output_type": "stream",
     "text": [
      "[-2.09604091e+00  1.14516336e+00  7.22989994e-01  1.58256363e+00\n",
      " -1.47117693e+00 -8.29412334e-01  5.31739320e-01  1.27443531e-01\n",
      " -1.48207472e+00 -7.88624642e-01  6.51590504e-01 -1.72755106e+00\n",
      " -4.04910297e-01  7.06111197e-01  1.08854530e+00 -1.07949578e+00\n",
      " -7.57760793e-02 -1.54249389e+00 -1.63953283e+00  1.44147389e+00\n",
      "  8.93333057e-01 -1.92379326e-01  1.11968789e+00  6.10745708e-01\n",
      " -9.15452448e-01 -1.74416114e+00 -1.34716694e-01 -1.34500008e+00\n",
      "  1.99819990e-03 -6.35534932e-01 -4.41078579e-02 -1.27592512e+00\n",
      " -1.10517388e+00 -1.39990394e+00 -1.50103709e-01  5.25583709e-01\n",
      " -6.47654648e-01 -2.13516018e-01  1.19588826e+00  5.40297765e-02\n",
      "  7.62902950e-01 -5.77821204e-01 -1.55086366e+00  1.85312011e+00\n",
      " -7.65664186e-01  7.49542720e-01  1.19226521e+00  8.06370186e-01\n",
      " -1.05161050e+00 -1.16956809e-01  2.75515163e+00  7.39606220e-01\n",
      "  3.36553298e-01 -2.74776057e-01  3.06456799e-01  1.93995385e+00\n",
      "  1.62483853e+00 -2.37363559e-01  1.39726065e+00  7.95750867e-01\n",
      "  6.05598158e-01 -7.48009968e-01  6.49799192e-01 -3.63145395e-01\n",
      " -2.17906250e-01  3.29061224e-01  1.23890277e+00  4.56876235e-01\n",
      " -8.08426250e-01 -1.07904977e+00 -1.09266674e-02 -1.02969880e+00\n",
      "  6.14144055e-01  2.56042853e-01  7.26942737e-01 -1.25152552e+00\n",
      " -9.18684169e-01 -6.41954028e-01  1.20514334e+00  4.02806155e-01\n",
      " -7.54023702e-01 -1.20726795e-01 -1.52646446e+00 -7.47041035e-02\n",
      "  4.42144408e-01  1.97695301e+00 -1.40409456e+00  4.57647911e-01\n",
      " -2.84312786e-01  1.06402620e+00 -3.93747573e-01 -9.61373028e-01\n",
      "  2.41878624e+00  2.21145377e-01  2.43281998e-01  1.05645857e+00\n",
      "  1.81960227e-01 -5.04293324e-01  1.27656929e+00 -1.54842703e+00]\n",
      "[-6.29688940e-01 -2.09638580e-01 -1.60687993e+00 -5.83110651e-01\n",
      " -5.60342562e-01 -2.29469325e-01 -4.75711303e-01 -8.79757506e-01\n",
      " -2.12790814e-05 -1.44704218e+00 -1.00418780e+00 -2.36243255e+00\n",
      " -6.03642717e-01  6.67136759e-01  1.44597137e+00  1.38972788e+00\n",
      " -1.70216263e+00  1.27373452e-01 -1.24898105e+00  8.68860246e-01\n",
      " -2.05235509e-02  1.99484031e+00 -1.60777831e+00  1.38775444e+00\n",
      " -1.14170917e+00  2.77077681e-01  3.27676541e-01 -1.50832334e-01\n",
      "  4.16839553e-01 -2.22847046e+00 -5.44332343e-01 -1.24648617e+00\n",
      "  6.97130087e-01 -1.58749876e-01 -2.07853663e-01 -9.20098090e-01\n",
      " -1.07288853e-01  9.24369837e-02  8.05545821e-01  9.23424654e-01\n",
      "  7.01353731e-01  9.44851619e-01 -2.86184961e-01 -3.80028193e-01\n",
      "  7.72335729e-01  2.32409373e-01  6.90751710e-01  3.77422621e-01\n",
      " -8.31565282e-01 -5.92428641e-01  9.68560257e-01 -1.46868970e+00\n",
      "  4.75583867e-01  2.05850596e-01  4.04597854e-01 -2.85922655e-01\n",
      "  1.24640470e+00 -1.69196503e-01 -8.14782705e-01  1.28153182e+00\n",
      "  1.25734932e-01  1.01642737e+00 -1.48211143e+00 -4.97249880e-01\n",
      " -6.82062970e-01  6.33200997e-01 -1.61062281e-02  1.48429451e+00\n",
      " -3.39973550e-01  1.24618574e+00 -1.46675182e+00  5.28786370e-01\n",
      " -6.31369094e-01  2.41896904e-01 -1.02155124e+00 -7.18565037e-01\n",
      " -3.07306324e-01  6.62433652e-01  5.28867477e-02  3.69299879e-01\n",
      "  7.74776302e-02  1.71558967e+00 -7.42462898e-01 -2.83630445e-01\n",
      "  7.29502463e-02 -8.19708562e-01  1.30374000e+00  3.57610011e-01\n",
      "  1.84551825e-01  6.47669111e-01  6.96811780e-01 -1.19386051e+00\n",
      "  1.50729069e+00 -1.11382833e+00 -1.64795657e+00  7.20842261e-01\n",
      " -1.55131037e-02  1.25706352e+00 -1.72185778e+00 -5.55463629e-01]\n"
     ]
    }
   ],
   "source": [
    "#Create two random variables as example\n",
    "x = rng.standard_normal(100)\n",
    "y = rng.standard_normal(100)\n",
    "print(x)\n",
    "print(y)"
   ]
  },
  {
   "cell_type": "code",
   "execution_count": 66,
   "id": "a4d0e99d-91f7-421f-bfbb-b0854104932b",
   "metadata": {},
   "outputs": [
    {
     "name": "stdout",
     "output_type": "stream",
     "text": [
      "<class 'tuple'>\n"
     ]
    },
    {
     "data": {
      "image/png": "[encoded data removed]",
      "text/plain": [
       "<Figure size 800x800 with 1 Axes>"
      ]
     },
     "metadata": {},
     "output_type": "display_data"
    }
   ],
   "source": [
    "output = subplots(figsize=(8, 8))\n",
    "fig = output[0]\n",
    "ax = output[1]\n",
    "print(type(output))"
   ]
  },
  {
   "cell_type": "markdown",
   "id": "c0bd17a6-f874-4d3d-9b3d-d5899583af94",
   "metadata": {},
   "source": [
    "Create a scatterplot, add an argument to `ax.plot()`, indicating that circles should be displayed."
   ]
  },
  {
   "cell_type": "code",
   "execution_count": 67,
   "id": "b58cbd04-43f5-447b-9da1-f43a981af082",
   "metadata": {},
   "outputs": [
    {
     "data": {
      "text/plain": [
       "[<matplotlib.lines.Line2D at 0x7fc3f7b8dd10>]"
      ]
     },
     "execution_count": 67,
     "metadata": {},
     "output_type": "execute_result"
    },
    {
     "data": {
      "image/png": "[encoded data removed]",
      "text/plain": [
       "<Figure size 800x800 with 1 Axes>"
      ]
     },
     "metadata": {},
     "output_type": "display_data"
    }
   ],
   "source": [
    "fig, ax = subplots(figsize=(8,8))\n",
    "ax.plot(x,y,'o')"
   ]
  },
  {
   "cell_type": "markdown",
   "id": "6f7d68c7-8765-46bd-a696-66cffa1d2358",
   "metadata": {},
   "source": [
    "Alternative way is to use `ax.scatter()` function."
   ]
  },
  {
   "cell_type": "code",
   "execution_count": 69,
   "id": "976b397b-07ac-4adc-b1b0-7895abb3e98e",
   "metadata": {},
   "outputs": [
    {
     "data": {
      "image/png": "[encoded data removed]",
      "text/plain": [
       "<Figure size 800x800 with 1 Axes>"
      ]
     },
     "metadata": {},
     "output_type": "display_data"
    }
   ],
   "source": [
    "fig, ax = subplots(figsize=(8,8))\n",
    "ax.scatter(x,y, marker='o');"
   ]
  },
  {
   "cell_type": "markdown",
   "id": "48b00b63-fcd0-42b0-b78a-35c111885d4d",
   "metadata": {},
   "source": [
    "To label our plot, we can use `set_xlabel()`, `set_ylabel()`, and `set_title()` methods of `ax`."
   ]
  },
  {
   "cell_type": "code",
   "execution_count": 70,
   "id": "55f541ea-5b0e-412a-875d-9045ba020767",
   "metadata": {},
   "outputs": [
    {
     "data": {
      "image/png": "[encoded data removed]",
      "text/plain": [
       "<Figure size 1000x1000 with 1 Axes>"
      ]
     },
     "metadata": {},
     "output_type": "display_data"
    }
   ],
   "source": [
    "fig, ax = subplots(figsize=(10,10))\n",
    "ax.scatter(x,y, marker='o')\n",
    "ax.set_xlabel(\"this is the x-axis\")\n",
    "ax.set_ylabel(\"this is the y-axis\")\n",
    "ax.set_title(\"Plot of X vs Y\");"
   ]
  },
  {
   "cell_type": "markdown",
   "id": "85378dad-13bc-44ca-8b6f-311de68b91a8",
   "metadata": {},
   "source": [
    "Can create several plots within a figure by adding additional arguments to `subplots()`. Let crate a `3x2` plots grid in a figure size determined by the `figsize`argument. If we want to set a commong _x-axis_, we can add  `sherex=True`."
   ]
  },
  {
   "cell_type": "code",
   "execution_count": null,
   "id": "0824f6c1-137e-414d-abd2-4aaf5c3ebc68",
   "metadata": {},
   "outputs": [],
   "source": [
    "fig, axes = subplots(nrows=3,\n",
    "                     ncols=2,\n",
    "                     figsize=(10, 10))"
   ]
  },
  {
   "cell_type": "markdown",
   "id": "61e04b4a-e723-4e4a-ba93-6cda92aa6406",
   "metadata": {},
   "source": [
    "Fill up scatter plot with `o`in the first row of the first column and a scatter plot with `d` in the last row of the last column."
   ]
  },
  {
   "cell_type": "code",
   "execution_count": null,
   "id": "9a66a641-8449-44a8-aacc-4fd1a76b006e",
   "metadata": {},
   "outputs": [],
   "source": [
    "axes[0,0].plot(x,y, 'o')\n",
    "axes[2,1].scatter(x,y,marker='d')\n",
    "fig"
   ]
  },
  {
   "cell_type": "markdown",
   "id": "e26b7c32-5a45-4ca7-9f80-273537500025",
   "metadata": {},
   "source": [
    "To save the figures, we call `savefig()`and set value in `dpi`(dots per inch) to determine the quality."
   ]
  },
  {
   "cell_type": "code",
   "execution_count": null,
   "id": "47add831-eb10-4a93-920d-22250c98fb5a",
   "metadata": {},
   "outputs": [],
   "source": [
    "fig.savefig(\"Figure.png\", dpi=400)\n"
   ]
  },
  {
   "cell_type": "markdown",
   "id": "b2336eb7-aef8-42a3-8b15-1e998f41d6e1",
   "metadata": {},
   "source": [
    "## Indexing data"
   ]
  },
  {
   "cell_type": "code",
   "execution_count": 71,
   "id": "73fc33da-2db5-44a7-a2e6-a8a7115ac0dc",
   "metadata": {},
   "outputs": [
    {
     "data": {
      "text/plain": [
       "array([[ 0,  1,  2,  3],\n",
       "       [ 4,  5,  6,  7],\n",
       "       [ 8,  9, 10, 11],\n",
       "       [12, 13, 14, 15]])"
      ]
     },
     "execution_count": 71,
     "metadata": {},
     "output_type": "execute_result"
    }
   ],
   "source": [
    "A = np.array(np.arange(16)).reshape((4, 4))\n",
    "A"
   ]
  },
  {
   "cell_type": "markdown",
   "id": "012dd8ec-fad5-4ac1-9f7e-67d9642ec2ff",
   "metadata": {},
   "source": [
    "`A[1,2]`shows the element corresponding to the second row and third column."
   ]
  },
  {
   "cell_type": "code",
   "execution_count": null,
   "id": "23b7c32e-bf6d-4df0-bfa8-e79914c73ffa",
   "metadata": {},
   "outputs": [],
   "source": [
    "A[1,2]"
   ]
  },
  {
   "cell_type": "markdown",
   "id": "35ed448e-d463-4f63-855a-0ccced8558fa",
   "metadata": {},
   "source": [
    "### Indexing rows, columns, and submatrices"
   ]
  },
  {
   "cell_type": "markdown",
   "id": "598a5631-af4e-463d-b335-7c6b4c369ef5",
   "metadata": {},
   "source": [
    "Selecting multiple rows at a time: `[1,3]` will show the second and fourth rows:"
   ]
  },
  {
   "cell_type": "code",
   "execution_count": 72,
   "id": "8932213c-ae7c-4347-87ad-269384473a6f",
   "metadata": {},
   "outputs": [
    {
     "data": {
      "text/plain": [
       "array([[ 4,  5,  6,  7],\n",
       "       [12, 13, 14, 15]])"
      ]
     },
     "execution_count": 72,
     "metadata": {},
     "output_type": "execute_result"
    }
   ],
   "source": [
    "A[[1,3]]"
   ]
  },
  {
   "cell_type": "markdown",
   "id": "bdac3eb2-9988-42d9-abdf-88933fa156c8",
   "metadata": {},
   "source": [
    "To select the first and third columns:  `[0,2]`- as the second argument in the square brackets. Then supply the first argument `:` which selects all rows."
   ]
  },
  {
   "cell_type": "code",
   "execution_count": 74,
   "id": "fa6bdb6a-1048-4379-b6e8-3331b9400c38",
   "metadata": {},
   "outputs": [
    {
     "data": {
      "text/plain": [
       "array([ 8, 10])"
      ]
     },
     "execution_count": 74,
     "metadata": {},
     "output_type": "execute_result"
    }
   ],
   "source": [
    "A[[2],[0,2]]"
   ]
  },
  {
   "cell_type": "markdown",
   "id": "9497338a-fe3d-4a5b-b17e-9783a1a76700",
   "metadata": {},
   "source": [
    "Now, suppose that we want to select the submatrix made up of the second and fourth rows as well as the first and third columns. An easy way to do it is using `np.ix()`to extract a submatrix using lists. "
   ]
  },
  {
   "cell_type": "code",
   "execution_count": 76,
   "id": "8aacf3d7-4405-44f3-8212-ff6de81d7a5f",
   "metadata": {},
   "outputs": [
    {
     "data": {
      "text/plain": [
       "array([[ 8, 10]])"
      ]
     },
     "execution_count": 76,
     "metadata": {},
     "output_type": "execute_result"
    }
   ],
   "source": [
    "idx = np.ix_([2],[0,2])\n",
    "A[idx]"
   ]
  },
  {
   "cell_type": "markdown",
   "id": "5afba5ee-67b0-444d-9971-f9c2ec54044a",
   "metadata": {},
   "source": [
    "Another option is subset matrices using slices"
   ]
  },
  {
   "cell_type": "code",
   "execution_count": 77,
   "id": "f8f0b527-596b-49fa-9a42-e348c07344f7",
   "metadata": {},
   "outputs": [
    {
     "data": {
      "text/plain": [
       "array([[ 4,  6],\n",
       "       [12, 14]])"
      ]
     },
     "execution_count": 77,
     "metadata": {},
     "output_type": "execute_result"
    }
   ],
   "source": [
    "A[1:4:2,0:3:2]"
   ]
  },
  {
   "cell_type": "markdown",
   "id": "39cb6256-cec2-470b-b8af-005861f541b8",
   "metadata": {},
   "source": [
    "### Boolean indexing"
   ]
  },
  {
   "cell_type": "markdown",
   "id": "2d14f2f1-1a58-4888-9a38-34950e913521",
   "metadata": {},
   "source": [
    "A *boolean* array has elements which equal either `True` (=1) or `False` (=0). The next line creates a vector of 0's of length equal to the first dimension of `A`. "
   ]
  },
  {
   "cell_type": "code",
   "execution_count": null,
   "id": "0c3d3660-c3c5-434f-92ba-8c81073963cb",
   "metadata": {},
   "outputs": [],
   "source": [
    "keep_rows = np.zeros(A.shape[0], bool)\n",
    "keep_rows"
   ]
  },
  {
   "cell_type": "markdown",
   "id": "2365e8a8-727a-4b88-bff3-1fb2df41b363",
   "metadata": {},
   "source": [
    "We now set the second and last element to true"
   ]
  },
  {
   "cell_type": "code",
   "execution_count": null,
   "id": "cb168894-622c-4415-84c2-d4d1826fe312",
   "metadata": {},
   "outputs": [],
   "source": [
    "keep_rows[[1,3]] = True\n",
    "keep_rows"
   ]
  },
  {
   "cell_type": "markdown",
   "id": "1745b53f-fb9e-4360-ab80-550c49a91fe6",
   "metadata": {},
   "source": [
    "## Loading data"
   ]
  },
  {
   "cell_type": "markdown",
   "id": "70cbf8e3-8fdf-4047-8bf8-d5c43c51f32a",
   "metadata": {},
   "source": [
    "The `Pandas` library can be used to create and work with data frame. "
   ]
  },
  {
   "cell_type": "markdown",
   "id": "22ccec62-75c6-4b4c-8aae-048f742a029d",
   "metadata": {},
   "source": [
    "### Reading a dataset"
   ]
  },
  {
   "cell_type": "code",
   "execution_count": 78,
   "id": "7bda2402-b4d6-4e11-883d-d3c6d0ff7dba",
   "metadata": {},
   "outputs": [],
   "source": [
    "import pandas as pd # Import pandas"
   ]
  },
  {
   "cell_type": "code",
   "execution_count": 79,
   "id": "e5848956-75a9-409f-891d-4a7637889cb8",
   "metadata": {},
   "outputs": [
    {
     "data": {
      "text/html": [
       "<div>\n",
       "<style scoped>\n",
       "    .dataframe tbody tr th:only-of-type {\n",
       "        vertical-align: middle;\n",
       "    }\n",
       "\n",
       "    .dataframe tbody tr th {\n",
       "        vertical-align: top;\n",
       "    }\n",
       "\n",
       "    .dataframe thead th {\n",
       "        text-align: right;\n",
       "    }\n",
       "</style>\n",
       "<table border=\"1\" class=\"dataframe\">\n",
       "  <thead>\n",
       "    <tr style=\"text-align: right;\">\n",
       "      <th></th>\n",
       "      <th>mpg</th>\n",
       "      <th>cylinders</th>\n",
       "      <th>displacement</th>\n",
       "      <th>horsepower</th>\n",
       "      <th>weight</th>\n",
       "      <th>acceleration</th>\n",
       "      <th>year</th>\n",
       "      <th>origin</th>\n",
       "      <th>name</th>\n",
       "    </tr>\n",
       "  </thead>\n",
       "  <tbody>\n",
       "    <tr>\n",
       "      <th>0</th>\n",
       "      <td>18.0</td>\n",
       "      <td>8</td>\n",
       "      <td>307.0</td>\n",
       "      <td>130</td>\n",
       "      <td>3504</td>\n",
       "      <td>12.0</td>\n",
       "      <td>70</td>\n",
       "      <td>1</td>\n",
       "      <td>chevrolet chevelle malibu</td>\n",
       "    </tr>\n",
       "    <tr>\n",
       "      <th>1</th>\n",
       "      <td>15.0</td>\n",
       "      <td>8</td>\n",
       "      <td>350.0</td>\n",
       "      <td>165</td>\n",
       "      <td>3693</td>\n",
       "      <td>11.5</td>\n",
       "      <td>70</td>\n",
       "      <td>1</td>\n",
       "      <td>buick skylark 320</td>\n",
       "    </tr>\n",
       "    <tr>\n",
       "      <th>2</th>\n",
       "      <td>18.0</td>\n",
       "      <td>8</td>\n",
       "      <td>318.0</td>\n",
       "      <td>150</td>\n",
       "      <td>3436</td>\n",
       "      <td>11.0</td>\n",
       "      <td>70</td>\n",
       "      <td>1</td>\n",
       "      <td>plymouth satellite</td>\n",
       "    </tr>\n",
       "    <tr>\n",
       "      <th>3</th>\n",
       "      <td>16.0</td>\n",
       "      <td>8</td>\n",
       "      <td>304.0</td>\n",
       "      <td>150</td>\n",
       "      <td>3433</td>\n",
       "      <td>12.0</td>\n",
       "      <td>70</td>\n",
       "      <td>1</td>\n",
       "      <td>amc rebel sst</td>\n",
       "    </tr>\n",
       "    <tr>\n",
       "      <th>4</th>\n",
       "      <td>17.0</td>\n",
       "      <td>8</td>\n",
       "      <td>302.0</td>\n",
       "      <td>140</td>\n",
       "      <td>3449</td>\n",
       "      <td>10.5</td>\n",
       "      <td>70</td>\n",
       "      <td>1</td>\n",
       "      <td>ford torino</td>\n",
       "    </tr>\n",
       "    <tr>\n",
       "      <th>...</th>\n",
       "      <td>...</td>\n",
       "      <td>...</td>\n",
       "      <td>...</td>\n",
       "      <td>...</td>\n",
       "      <td>...</td>\n",
       "      <td>...</td>\n",
       "      <td>...</td>\n",
       "      <td>...</td>\n",
       "      <td>...</td>\n",
       "    </tr>\n",
       "    <tr>\n",
       "      <th>387</th>\n",
       "      <td>27.0</td>\n",
       "      <td>4</td>\n",
       "      <td>140.0</td>\n",
       "      <td>86</td>\n",
       "      <td>2790</td>\n",
       "      <td>15.6</td>\n",
       "      <td>82</td>\n",
       "      <td>1</td>\n",
       "      <td>ford mustang gl</td>\n",
       "    </tr>\n",
       "    <tr>\n",
       "      <th>388</th>\n",
       "      <td>44.0</td>\n",
       "      <td>4</td>\n",
       "      <td>97.0</td>\n",
       "      <td>52</td>\n",
       "      <td>2130</td>\n",
       "      <td>24.6</td>\n",
       "      <td>82</td>\n",
       "      <td>2</td>\n",
       "      <td>vw pickup</td>\n",
       "    </tr>\n",
       "    <tr>\n",
       "      <th>389</th>\n",
       "      <td>32.0</td>\n",
       "      <td>4</td>\n",
       "      <td>135.0</td>\n",
       "      <td>84</td>\n",
       "      <td>2295</td>\n",
       "      <td>11.6</td>\n",
       "      <td>82</td>\n",
       "      <td>1</td>\n",
       "      <td>dodge rampage</td>\n",
       "    </tr>\n",
       "    <tr>\n",
       "      <th>390</th>\n",
       "      <td>28.0</td>\n",
       "      <td>4</td>\n",
       "      <td>120.0</td>\n",
       "      <td>79</td>\n",
       "      <td>2625</td>\n",
       "      <td>18.6</td>\n",
       "      <td>82</td>\n",
       "      <td>1</td>\n",
       "      <td>ford ranger</td>\n",
       "    </tr>\n",
       "    <tr>\n",
       "      <th>391</th>\n",
       "      <td>31.0</td>\n",
       "      <td>4</td>\n",
       "      <td>119.0</td>\n",
       "      <td>82</td>\n",
       "      <td>2720</td>\n",
       "      <td>19.4</td>\n",
       "      <td>82</td>\n",
       "      <td>1</td>\n",
       "      <td>chevy s-10</td>\n",
       "    </tr>\n",
       "  </tbody>\n",
       "</table>\n",
       "<p>392 rows × 9 columns</p>\n",
       "</div>"
      ],
      "text/plain": [
       "      mpg  cylinders  displacement  horsepower  weight  acceleration  year  \\\n",
       "0    18.0          8         307.0         130    3504          12.0    70   \n",
       "1    15.0          8         350.0         165    3693          11.5    70   \n",
       "2    18.0          8         318.0         150    3436          11.0    70   \n",
       "3    16.0          8         304.0         150    3433          12.0    70   \n",
       "4    17.0          8         302.0         140    3449          10.5    70   \n",
       "..    ...        ...           ...         ...     ...           ...   ...   \n",
       "387  27.0          4         140.0          86    2790          15.6    82   \n",
       "388  44.0          4          97.0          52    2130          24.6    82   \n",
       "389  32.0          4         135.0          84    2295          11.6    82   \n",
       "390  28.0          4         120.0          79    2625          18.6    82   \n",
       "391  31.0          4         119.0          82    2720          19.4    82   \n",
       "\n",
       "     origin                       name  \n",
       "0         1  chevrolet chevelle malibu  \n",
       "1         1          buick skylark 320  \n",
       "2         1         plymouth satellite  \n",
       "3         1              amc rebel sst  \n",
       "4         1                ford torino  \n",
       "..      ...                        ...  \n",
       "387       1            ford mustang gl  \n",
       "388       2                  vw pickup  \n",
       "389       1              dodge rampage  \n",
       "390       1                ford ranger  \n",
       "391       1                 chevy s-10  \n",
       "\n",
       "[392 rows x 9 columns]"
      ]
     },
     "execution_count": 79,
     "metadata": {},
     "output_type": "execute_result"
    }
   ],
   "source": [
    "Auto = pd.read_csv('Data/Auto.csv')\n",
    "Auto"
   ]
  },
  {
   "cell_type": "markdown",
   "id": "21bf4aaf-aa48-4c31-a7cb-bab81961f228",
   "metadata": {},
   "source": [
    "Can have a further look at a specific variable, `horsepower` here."
   ]
  },
  {
   "cell_type": "code",
   "execution_count": 80,
   "id": "c45aa12c-fbdf-45be-b6ba-96160aaeadc5",
   "metadata": {},
   "outputs": [
    {
     "data": {
      "text/plain": [
       "0      130\n",
       "1      165\n",
       "2      150\n",
       "3      150\n",
       "4      140\n",
       "      ... \n",
       "387     86\n",
       "388     52\n",
       "389     84\n",
       "390     79\n",
       "391     82\n",
       "Name: horsepower, Length: 392, dtype: int64"
      ]
     },
     "execution_count": 80,
     "metadata": {},
     "output_type": "execute_result"
    }
   ],
   "source": [
    "Auto['horsepower']"
   ]
  },
  {
   "cell_type": "markdown",
   "id": "0dc6b1be-5555-46a9-94a0-0995ce51ac73",
   "metadata": {},
   "source": [
    "`Auto.shape` tells us the number of observations (rows) and variables (columns). "
   ]
  },
  {
   "cell_type": "code",
   "execution_count": 81,
   "id": "ac9c5e3b-179d-41f9-957b-71812011c9f2",
   "metadata": {},
   "outputs": [
    {
     "data": {
      "text/plain": [
       "(392, 9)"
      ]
     },
     "execution_count": 81,
     "metadata": {},
     "output_type": "execute_result"
    }
   ],
   "source": [
    "Auto.shape"
   ]
  },
  {
   "cell_type": "markdown",
   "id": "72dc9604-6d9d-43c5-a2c5-3c7fa0be8e7e",
   "metadata": {},
   "source": [
    "### Selecting rows and columns"
   ]
  },
  {
   "cell_type": "code",
   "execution_count": 82,
   "id": "d3c623d2-87eb-4bdf-adbc-3dec365f74ae",
   "metadata": {},
   "outputs": [
    {
     "data": {
      "text/plain": [
       "Index(['mpg', 'cylinders', 'displacement', 'horsepower', 'weight',\n",
       "       'acceleration', 'year', 'origin', 'name'],\n",
       "      dtype='object')"
      ]
     },
     "execution_count": 82,
     "metadata": {},
     "output_type": "execute_result"
    }
   ],
   "source": [
    "Auto.columns"
   ]
  },
  {
   "cell_type": "markdown",
   "id": "771e775a-6202-407f-add1-55fbc66df5e5",
   "metadata": {},
   "source": [
    "Select the first 4 rows of the dataset"
   ]
  },
  {
   "cell_type": "code",
   "execution_count": 83,
   "id": "d554780f-98af-46ab-8785-ead95999f4a0",
   "metadata": {},
   "outputs": [
    {
     "data": {
      "text/html": [
       "<div>\n",
       "<style scoped>\n",
       "    .dataframe tbody tr th:only-of-type {\n",
       "        vertical-align: middle;\n",
       "    }\n",
       "\n",
       "    .dataframe tbody tr th {\n",
       "        vertical-align: top;\n",
       "    }\n",
       "\n",
       "    .dataframe thead th {\n",
       "        text-align: right;\n",
       "    }\n",
       "</style>\n",
       "<table border=\"1\" class=\"dataframe\">\n",
       "  <thead>\n",
       "    <tr style=\"text-align: right;\">\n",
       "      <th></th>\n",
       "      <th>mpg</th>\n",
       "      <th>cylinders</th>\n",
       "      <th>displacement</th>\n",
       "      <th>horsepower</th>\n",
       "      <th>weight</th>\n",
       "      <th>acceleration</th>\n",
       "      <th>year</th>\n",
       "      <th>origin</th>\n",
       "      <th>name</th>\n",
       "    </tr>\n",
       "  </thead>\n",
       "  <tbody>\n",
       "    <tr>\n",
       "      <th>0</th>\n",
       "      <td>18.0</td>\n",
       "      <td>8</td>\n",
       "      <td>307.0</td>\n",
       "      <td>130</td>\n",
       "      <td>3504</td>\n",
       "      <td>12.0</td>\n",
       "      <td>70</td>\n",
       "      <td>1</td>\n",
       "      <td>chevrolet chevelle malibu</td>\n",
       "    </tr>\n",
       "    <tr>\n",
       "      <th>1</th>\n",
       "      <td>15.0</td>\n",
       "      <td>8</td>\n",
       "      <td>350.0</td>\n",
       "      <td>165</td>\n",
       "      <td>3693</td>\n",
       "      <td>11.5</td>\n",
       "      <td>70</td>\n",
       "      <td>1</td>\n",
       "      <td>buick skylark 320</td>\n",
       "    </tr>\n",
       "    <tr>\n",
       "      <th>2</th>\n",
       "      <td>18.0</td>\n",
       "      <td>8</td>\n",
       "      <td>318.0</td>\n",
       "      <td>150</td>\n",
       "      <td>3436</td>\n",
       "      <td>11.0</td>\n",
       "      <td>70</td>\n",
       "      <td>1</td>\n",
       "      <td>plymouth satellite</td>\n",
       "    </tr>\n",
       "    <tr>\n",
       "      <th>3</th>\n",
       "      <td>16.0</td>\n",
       "      <td>8</td>\n",
       "      <td>304.0</td>\n",
       "      <td>150</td>\n",
       "      <td>3433</td>\n",
       "      <td>12.0</td>\n",
       "      <td>70</td>\n",
       "      <td>1</td>\n",
       "      <td>amc rebel sst</td>\n",
       "    </tr>\n",
       "  </tbody>\n",
       "</table>\n",
       "</div>"
      ],
      "text/plain": [
       "    mpg  cylinders  displacement  horsepower  weight  acceleration  year  \\\n",
       "0  18.0          8         307.0         130    3504          12.0    70   \n",
       "1  15.0          8         350.0         165    3693          11.5    70   \n",
       "2  18.0          8         318.0         150    3436          11.0    70   \n",
       "3  16.0          8         304.0         150    3433          12.0    70   \n",
       "\n",
       "   origin                       name  \n",
       "0       1  chevrolet chevelle malibu  \n",
       "1       1          buick skylark 320  \n",
       "2       1         plymouth satellite  \n",
       "3       1              amc rebel sst  "
      ]
     },
     "execution_count": 83,
     "metadata": {},
     "output_type": "execute_result"
    }
   ],
   "source": [
    "Auto[:4]"
   ]
  },
  {
   "cell_type": "markdown",
   "id": "062fb326-0c55-4744-b469-2c57640be44a",
   "metadata": {},
   "source": [
    "Let's keep only the observations for which year is higher than 80 "
   ]
  },
  {
   "cell_type": "code",
   "execution_count": 84,
   "id": "1201f0ff-1095-450b-8260-26f9a49e5ddf",
   "metadata": {},
   "outputs": [
    {
     "data": {
      "text/html": [
       "<div>\n",
       "<style scoped>\n",
       "    .dataframe tbody tr th:only-of-type {\n",
       "        vertical-align: middle;\n",
       "    }\n",
       "\n",
       "    .dataframe tbody tr th {\n",
       "        vertical-align: top;\n",
       "    }\n",
       "\n",
       "    .dataframe thead th {\n",
       "        text-align: right;\n",
       "    }\n",
       "</style>\n",
       "<table border=\"1\" class=\"dataframe\">\n",
       "  <thead>\n",
       "    <tr style=\"text-align: right;\">\n",
       "      <th></th>\n",
       "      <th>mpg</th>\n",
       "      <th>cylinders</th>\n",
       "      <th>displacement</th>\n",
       "      <th>horsepower</th>\n",
       "      <th>weight</th>\n",
       "      <th>acceleration</th>\n",
       "      <th>year</th>\n",
       "      <th>origin</th>\n",
       "      <th>name</th>\n",
       "    </tr>\n",
       "  </thead>\n",
       "  <tbody>\n",
       "    <tr>\n",
       "      <th>334</th>\n",
       "      <td>27.2</td>\n",
       "      <td>4</td>\n",
       "      <td>135.0</td>\n",
       "      <td>84</td>\n",
       "      <td>2490</td>\n",
       "      <td>15.7</td>\n",
       "      <td>81</td>\n",
       "      <td>1</td>\n",
       "      <td>plymouth reliant</td>\n",
       "    </tr>\n",
       "    <tr>\n",
       "      <th>335</th>\n",
       "      <td>26.6</td>\n",
       "      <td>4</td>\n",
       "      <td>151.0</td>\n",
       "      <td>84</td>\n",
       "      <td>2635</td>\n",
       "      <td>16.4</td>\n",
       "      <td>81</td>\n",
       "      <td>1</td>\n",
       "      <td>buick skylark</td>\n",
       "    </tr>\n",
       "    <tr>\n",
       "      <th>336</th>\n",
       "      <td>25.8</td>\n",
       "      <td>4</td>\n",
       "      <td>156.0</td>\n",
       "      <td>92</td>\n",
       "      <td>2620</td>\n",
       "      <td>14.4</td>\n",
       "      <td>81</td>\n",
       "      <td>1</td>\n",
       "      <td>dodge aries wagon (sw)</td>\n",
       "    </tr>\n",
       "    <tr>\n",
       "      <th>337</th>\n",
       "      <td>23.5</td>\n",
       "      <td>6</td>\n",
       "      <td>173.0</td>\n",
       "      <td>110</td>\n",
       "      <td>2725</td>\n",
       "      <td>12.6</td>\n",
       "      <td>81</td>\n",
       "      <td>1</td>\n",
       "      <td>chevrolet citation</td>\n",
       "    </tr>\n",
       "    <tr>\n",
       "      <th>338</th>\n",
       "      <td>30.0</td>\n",
       "      <td>4</td>\n",
       "      <td>135.0</td>\n",
       "      <td>84</td>\n",
       "      <td>2385</td>\n",
       "      <td>12.9</td>\n",
       "      <td>81</td>\n",
       "      <td>1</td>\n",
       "      <td>plymouth reliant</td>\n",
       "    </tr>\n",
       "    <tr>\n",
       "      <th>339</th>\n",
       "      <td>39.1</td>\n",
       "      <td>4</td>\n",
       "      <td>79.0</td>\n",
       "      <td>58</td>\n",
       "      <td>1755</td>\n",
       "      <td>16.9</td>\n",
       "      <td>81</td>\n",
       "      <td>3</td>\n",
       "      <td>toyota starlet</td>\n",
       "    </tr>\n",
       "    <tr>\n",
       "      <th>340</th>\n",
       "      <td>39.0</td>\n",
       "      <td>4</td>\n",
       "      <td>86.0</td>\n",
       "      <td>64</td>\n",
       "      <td>1875</td>\n",
       "      <td>16.4</td>\n",
       "      <td>81</td>\n",
       "      <td>1</td>\n",
       "      <td>plymouth champ</td>\n",
       "    </tr>\n",
       "    <tr>\n",
       "      <th>341</th>\n",
       "      <td>35.1</td>\n",
       "      <td>4</td>\n",
       "      <td>81.0</td>\n",
       "      <td>60</td>\n",
       "      <td>1760</td>\n",
       "      <td>16.1</td>\n",
       "      <td>81</td>\n",
       "      <td>3</td>\n",
       "      <td>honda civic 1300</td>\n",
       "    </tr>\n",
       "    <tr>\n",
       "      <th>342</th>\n",
       "      <td>32.3</td>\n",
       "      <td>4</td>\n",
       "      <td>97.0</td>\n",
       "      <td>67</td>\n",
       "      <td>2065</td>\n",
       "      <td>17.8</td>\n",
       "      <td>81</td>\n",
       "      <td>3</td>\n",
       "      <td>subaru</td>\n",
       "    </tr>\n",
       "    <tr>\n",
       "      <th>343</th>\n",
       "      <td>37.0</td>\n",
       "      <td>4</td>\n",
       "      <td>85.0</td>\n",
       "      <td>65</td>\n",
       "      <td>1975</td>\n",
       "      <td>19.4</td>\n",
       "      <td>81</td>\n",
       "      <td>3</td>\n",
       "      <td>datsun 210 mpg</td>\n",
       "    </tr>\n",
       "    <tr>\n",
       "      <th>344</th>\n",
       "      <td>37.7</td>\n",
       "      <td>4</td>\n",
       "      <td>89.0</td>\n",
       "      <td>62</td>\n",
       "      <td>2050</td>\n",
       "      <td>17.3</td>\n",
       "      <td>81</td>\n",
       "      <td>3</td>\n",
       "      <td>toyota tercel</td>\n",
       "    </tr>\n",
       "    <tr>\n",
       "      <th>345</th>\n",
       "      <td>34.1</td>\n",
       "      <td>4</td>\n",
       "      <td>91.0</td>\n",
       "      <td>68</td>\n",
       "      <td>1985</td>\n",
       "      <td>16.0</td>\n",
       "      <td>81</td>\n",
       "      <td>3</td>\n",
       "      <td>mazda glc 4</td>\n",
       "    </tr>\n",
       "    <tr>\n",
       "      <th>346</th>\n",
       "      <td>34.7</td>\n",
       "      <td>4</td>\n",
       "      <td>105.0</td>\n",
       "      <td>63</td>\n",
       "      <td>2215</td>\n",
       "      <td>14.9</td>\n",
       "      <td>81</td>\n",
       "      <td>1</td>\n",
       "      <td>plymouth horizon 4</td>\n",
       "    </tr>\n",
       "    <tr>\n",
       "      <th>347</th>\n",
       "      <td>34.4</td>\n",
       "      <td>4</td>\n",
       "      <td>98.0</td>\n",
       "      <td>65</td>\n",
       "      <td>2045</td>\n",
       "      <td>16.2</td>\n",
       "      <td>81</td>\n",
       "      <td>1</td>\n",
       "      <td>ford escort 4w</td>\n",
       "    </tr>\n",
       "    <tr>\n",
       "      <th>348</th>\n",
       "      <td>29.9</td>\n",
       "      <td>4</td>\n",
       "      <td>98.0</td>\n",
       "      <td>65</td>\n",
       "      <td>2380</td>\n",
       "      <td>20.7</td>\n",
       "      <td>81</td>\n",
       "      <td>1</td>\n",
       "      <td>ford escort 2h</td>\n",
       "    </tr>\n",
       "    <tr>\n",
       "      <th>349</th>\n",
       "      <td>33.0</td>\n",
       "      <td>4</td>\n",
       "      <td>105.0</td>\n",
       "      <td>74</td>\n",
       "      <td>2190</td>\n",
       "      <td>14.2</td>\n",
       "      <td>81</td>\n",
       "      <td>2</td>\n",
       "      <td>volkswagen jetta</td>\n",
       "    </tr>\n",
       "    <tr>\n",
       "      <th>350</th>\n",
       "      <td>33.7</td>\n",
       "      <td>4</td>\n",
       "      <td>107.0</td>\n",
       "      <td>75</td>\n",
       "      <td>2210</td>\n",
       "      <td>14.4</td>\n",
       "      <td>81</td>\n",
       "      <td>3</td>\n",
       "      <td>honda prelude</td>\n",
       "    </tr>\n",
       "    <tr>\n",
       "      <th>351</th>\n",
       "      <td>32.4</td>\n",
       "      <td>4</td>\n",
       "      <td>108.0</td>\n",
       "      <td>75</td>\n",
       "      <td>2350</td>\n",
       "      <td>16.8</td>\n",
       "      <td>81</td>\n",
       "      <td>3</td>\n",
       "      <td>toyota corolla</td>\n",
       "    </tr>\n",
       "    <tr>\n",
       "      <th>352</th>\n",
       "      <td>32.9</td>\n",
       "      <td>4</td>\n",
       "      <td>119.0</td>\n",
       "      <td>100</td>\n",
       "      <td>2615</td>\n",
       "      <td>14.8</td>\n",
       "      <td>81</td>\n",
       "      <td>3</td>\n",
       "      <td>datsun 200sx</td>\n",
       "    </tr>\n",
       "    <tr>\n",
       "      <th>353</th>\n",
       "      <td>31.6</td>\n",
       "      <td>4</td>\n",
       "      <td>120.0</td>\n",
       "      <td>74</td>\n",
       "      <td>2635</td>\n",
       "      <td>18.3</td>\n",
       "      <td>81</td>\n",
       "      <td>3</td>\n",
       "      <td>mazda 626</td>\n",
       "    </tr>\n",
       "    <tr>\n",
       "      <th>354</th>\n",
       "      <td>28.1</td>\n",
       "      <td>4</td>\n",
       "      <td>141.0</td>\n",
       "      <td>80</td>\n",
       "      <td>3230</td>\n",
       "      <td>20.4</td>\n",
       "      <td>81</td>\n",
       "      <td>2</td>\n",
       "      <td>peugeot 505s turbo diesel</td>\n",
       "    </tr>\n",
       "    <tr>\n",
       "      <th>355</th>\n",
       "      <td>30.7</td>\n",
       "      <td>6</td>\n",
       "      <td>145.0</td>\n",
       "      <td>76</td>\n",
       "      <td>3160</td>\n",
       "      <td>19.6</td>\n",
       "      <td>81</td>\n",
       "      <td>2</td>\n",
       "      <td>volvo diesel</td>\n",
       "    </tr>\n",
       "    <tr>\n",
       "      <th>356</th>\n",
       "      <td>25.4</td>\n",
       "      <td>6</td>\n",
       "      <td>168.0</td>\n",
       "      <td>116</td>\n",
       "      <td>2900</td>\n",
       "      <td>12.6</td>\n",
       "      <td>81</td>\n",
       "      <td>3</td>\n",
       "      <td>toyota cressida</td>\n",
       "    </tr>\n",
       "    <tr>\n",
       "      <th>357</th>\n",
       "      <td>24.2</td>\n",
       "      <td>6</td>\n",
       "      <td>146.0</td>\n",
       "      <td>120</td>\n",
       "      <td>2930</td>\n",
       "      <td>13.8</td>\n",
       "      <td>81</td>\n",
       "      <td>3</td>\n",
       "      <td>datsun 810 maxima</td>\n",
       "    </tr>\n",
       "    <tr>\n",
       "      <th>358</th>\n",
       "      <td>22.4</td>\n",
       "      <td>6</td>\n",
       "      <td>231.0</td>\n",
       "      <td>110</td>\n",
       "      <td>3415</td>\n",
       "      <td>15.8</td>\n",
       "      <td>81</td>\n",
       "      <td>1</td>\n",
       "      <td>buick century</td>\n",
       "    </tr>\n",
       "    <tr>\n",
       "      <th>359</th>\n",
       "      <td>26.6</td>\n",
       "      <td>8</td>\n",
       "      <td>350.0</td>\n",
       "      <td>105</td>\n",
       "      <td>3725</td>\n",
       "      <td>19.0</td>\n",
       "      <td>81</td>\n",
       "      <td>1</td>\n",
       "      <td>oldsmobile cutlass ls</td>\n",
       "    </tr>\n",
       "    <tr>\n",
       "      <th>360</th>\n",
       "      <td>20.2</td>\n",
       "      <td>6</td>\n",
       "      <td>200.0</td>\n",
       "      <td>88</td>\n",
       "      <td>3060</td>\n",
       "      <td>17.1</td>\n",
       "      <td>81</td>\n",
       "      <td>1</td>\n",
       "      <td>ford granada gl</td>\n",
       "    </tr>\n",
       "    <tr>\n",
       "      <th>361</th>\n",
       "      <td>17.6</td>\n",
       "      <td>6</td>\n",
       "      <td>225.0</td>\n",
       "      <td>85</td>\n",
       "      <td>3465</td>\n",
       "      <td>16.6</td>\n",
       "      <td>81</td>\n",
       "      <td>1</td>\n",
       "      <td>chrysler lebaron salon</td>\n",
       "    </tr>\n",
       "    <tr>\n",
       "      <th>362</th>\n",
       "      <td>28.0</td>\n",
       "      <td>4</td>\n",
       "      <td>112.0</td>\n",
       "      <td>88</td>\n",
       "      <td>2605</td>\n",
       "      <td>19.6</td>\n",
       "      <td>82</td>\n",
       "      <td>1</td>\n",
       "      <td>chevrolet cavalier</td>\n",
       "    </tr>\n",
       "    <tr>\n",
       "      <th>363</th>\n",
       "      <td>27.0</td>\n",
       "      <td>4</td>\n",
       "      <td>112.0</td>\n",
       "      <td>88</td>\n",
       "      <td>2640</td>\n",
       "      <td>18.6</td>\n",
       "      <td>82</td>\n",
       "      <td>1</td>\n",
       "      <td>chevrolet cavalier wagon</td>\n",
       "    </tr>\n",
       "    <tr>\n",
       "      <th>364</th>\n",
       "      <td>34.0</td>\n",
       "      <td>4</td>\n",
       "      <td>112.0</td>\n",
       "      <td>88</td>\n",
       "      <td>2395</td>\n",
       "      <td>18.0</td>\n",
       "      <td>82</td>\n",
       "      <td>1</td>\n",
       "      <td>chevrolet cavalier 2-door</td>\n",
       "    </tr>\n",
       "    <tr>\n",
       "      <th>365</th>\n",
       "      <td>31.0</td>\n",
       "      <td>4</td>\n",
       "      <td>112.0</td>\n",
       "      <td>85</td>\n",
       "      <td>2575</td>\n",
       "      <td>16.2</td>\n",
       "      <td>82</td>\n",
       "      <td>1</td>\n",
       "      <td>pontiac j2000 se hatchback</td>\n",
       "    </tr>\n",
       "    <tr>\n",
       "      <th>366</th>\n",
       "      <td>29.0</td>\n",
       "      <td>4</td>\n",
       "      <td>135.0</td>\n",
       "      <td>84</td>\n",
       "      <td>2525</td>\n",
       "      <td>16.0</td>\n",
       "      <td>82</td>\n",
       "      <td>1</td>\n",
       "      <td>dodge aries se</td>\n",
       "    </tr>\n",
       "    <tr>\n",
       "      <th>367</th>\n",
       "      <td>27.0</td>\n",
       "      <td>4</td>\n",
       "      <td>151.0</td>\n",
       "      <td>90</td>\n",
       "      <td>2735</td>\n",
       "      <td>18.0</td>\n",
       "      <td>82</td>\n",
       "      <td>1</td>\n",
       "      <td>pontiac phoenix</td>\n",
       "    </tr>\n",
       "    <tr>\n",
       "      <th>368</th>\n",
       "      <td>24.0</td>\n",
       "      <td>4</td>\n",
       "      <td>140.0</td>\n",
       "      <td>92</td>\n",
       "      <td>2865</td>\n",
       "      <td>16.4</td>\n",
       "      <td>82</td>\n",
       "      <td>1</td>\n",
       "      <td>ford fairmont futura</td>\n",
       "    </tr>\n",
       "    <tr>\n",
       "      <th>369</th>\n",
       "      <td>36.0</td>\n",
       "      <td>4</td>\n",
       "      <td>105.0</td>\n",
       "      <td>74</td>\n",
       "      <td>1980</td>\n",
       "      <td>15.3</td>\n",
       "      <td>82</td>\n",
       "      <td>2</td>\n",
       "      <td>volkswagen rabbit l</td>\n",
       "    </tr>\n",
       "    <tr>\n",
       "      <th>370</th>\n",
       "      <td>37.0</td>\n",
       "      <td>4</td>\n",
       "      <td>91.0</td>\n",
       "      <td>68</td>\n",
       "      <td>2025</td>\n",
       "      <td>18.2</td>\n",
       "      <td>82</td>\n",
       "      <td>3</td>\n",
       "      <td>mazda glc custom l</td>\n",
       "    </tr>\n",
       "    <tr>\n",
       "      <th>371</th>\n",
       "      <td>31.0</td>\n",
       "      <td>4</td>\n",
       "      <td>91.0</td>\n",
       "      <td>68</td>\n",
       "      <td>1970</td>\n",
       "      <td>17.6</td>\n",
       "      <td>82</td>\n",
       "      <td>3</td>\n",
       "      <td>mazda glc custom</td>\n",
       "    </tr>\n",
       "    <tr>\n",
       "      <th>372</th>\n",
       "      <td>38.0</td>\n",
       "      <td>4</td>\n",
       "      <td>105.0</td>\n",
       "      <td>63</td>\n",
       "      <td>2125</td>\n",
       "      <td>14.7</td>\n",
       "      <td>82</td>\n",
       "      <td>1</td>\n",
       "      <td>plymouth horizon miser</td>\n",
       "    </tr>\n",
       "    <tr>\n",
       "      <th>373</th>\n",
       "      <td>36.0</td>\n",
       "      <td>4</td>\n",
       "      <td>98.0</td>\n",
       "      <td>70</td>\n",
       "      <td>2125</td>\n",
       "      <td>17.3</td>\n",
       "      <td>82</td>\n",
       "      <td>1</td>\n",
       "      <td>mercury lynx l</td>\n",
       "    </tr>\n",
       "    <tr>\n",
       "      <th>374</th>\n",
       "      <td>36.0</td>\n",
       "      <td>4</td>\n",
       "      <td>120.0</td>\n",
       "      <td>88</td>\n",
       "      <td>2160</td>\n",
       "      <td>14.5</td>\n",
       "      <td>82</td>\n",
       "      <td>3</td>\n",
       "      <td>nissan stanza xe</td>\n",
       "    </tr>\n",
       "    <tr>\n",
       "      <th>375</th>\n",
       "      <td>36.0</td>\n",
       "      <td>4</td>\n",
       "      <td>107.0</td>\n",
       "      <td>75</td>\n",
       "      <td>2205</td>\n",
       "      <td>14.5</td>\n",
       "      <td>82</td>\n",
       "      <td>3</td>\n",
       "      <td>honda accord</td>\n",
       "    </tr>\n",
       "    <tr>\n",
       "      <th>376</th>\n",
       "      <td>34.0</td>\n",
       "      <td>4</td>\n",
       "      <td>108.0</td>\n",
       "      <td>70</td>\n",
       "      <td>2245</td>\n",
       "      <td>16.9</td>\n",
       "      <td>82</td>\n",
       "      <td>3</td>\n",
       "      <td>toyota corolla</td>\n",
       "    </tr>\n",
       "    <tr>\n",
       "      <th>377</th>\n",
       "      <td>38.0</td>\n",
       "      <td>4</td>\n",
       "      <td>91.0</td>\n",
       "      <td>67</td>\n",
       "      <td>1965</td>\n",
       "      <td>15.0</td>\n",
       "      <td>82</td>\n",
       "      <td>3</td>\n",
       "      <td>honda civic</td>\n",
       "    </tr>\n",
       "    <tr>\n",
       "      <th>378</th>\n",
       "      <td>32.0</td>\n",
       "      <td>4</td>\n",
       "      <td>91.0</td>\n",
       "      <td>67</td>\n",
       "      <td>1965</td>\n",
       "      <td>15.7</td>\n",
       "      <td>82</td>\n",
       "      <td>3</td>\n",
       "      <td>honda civic (auto)</td>\n",
       "    </tr>\n",
       "    <tr>\n",
       "      <th>379</th>\n",
       "      <td>38.0</td>\n",
       "      <td>4</td>\n",
       "      <td>91.0</td>\n",
       "      <td>67</td>\n",
       "      <td>1995</td>\n",
       "      <td>16.2</td>\n",
       "      <td>82</td>\n",
       "      <td>3</td>\n",
       "      <td>datsun 310 gx</td>\n",
       "    </tr>\n",
       "    <tr>\n",
       "      <th>380</th>\n",
       "      <td>25.0</td>\n",
       "      <td>6</td>\n",
       "      <td>181.0</td>\n",
       "      <td>110</td>\n",
       "      <td>2945</td>\n",
       "      <td>16.4</td>\n",
       "      <td>82</td>\n",
       "      <td>1</td>\n",
       "      <td>buick century limited</td>\n",
       "    </tr>\n",
       "    <tr>\n",
       "      <th>381</th>\n",
       "      <td>38.0</td>\n",
       "      <td>6</td>\n",
       "      <td>262.0</td>\n",
       "      <td>85</td>\n",
       "      <td>3015</td>\n",
       "      <td>17.0</td>\n",
       "      <td>82</td>\n",
       "      <td>1</td>\n",
       "      <td>oldsmobile cutlass ciera (diesel)</td>\n",
       "    </tr>\n",
       "    <tr>\n",
       "      <th>382</th>\n",
       "      <td>26.0</td>\n",
       "      <td>4</td>\n",
       "      <td>156.0</td>\n",
       "      <td>92</td>\n",
       "      <td>2585</td>\n",
       "      <td>14.5</td>\n",
       "      <td>82</td>\n",
       "      <td>1</td>\n",
       "      <td>chrysler lebaron medallion</td>\n",
       "    </tr>\n",
       "    <tr>\n",
       "      <th>383</th>\n",
       "      <td>22.0</td>\n",
       "      <td>6</td>\n",
       "      <td>232.0</td>\n",
       "      <td>112</td>\n",
       "      <td>2835</td>\n",
       "      <td>14.7</td>\n",
       "      <td>82</td>\n",
       "      <td>1</td>\n",
       "      <td>ford granada l</td>\n",
       "    </tr>\n",
       "    <tr>\n",
       "      <th>384</th>\n",
       "      <td>32.0</td>\n",
       "      <td>4</td>\n",
       "      <td>144.0</td>\n",
       "      <td>96</td>\n",
       "      <td>2665</td>\n",
       "      <td>13.9</td>\n",
       "      <td>82</td>\n",
       "      <td>3</td>\n",
       "      <td>toyota celica gt</td>\n",
       "    </tr>\n",
       "    <tr>\n",
       "      <th>385</th>\n",
       "      <td>36.0</td>\n",
       "      <td>4</td>\n",
       "      <td>135.0</td>\n",
       "      <td>84</td>\n",
       "      <td>2370</td>\n",
       "      <td>13.0</td>\n",
       "      <td>82</td>\n",
       "      <td>1</td>\n",
       "      <td>dodge charger 2.2</td>\n",
       "    </tr>\n",
       "    <tr>\n",
       "      <th>386</th>\n",
       "      <td>27.0</td>\n",
       "      <td>4</td>\n",
       "      <td>151.0</td>\n",
       "      <td>90</td>\n",
       "      <td>2950</td>\n",
       "      <td>17.3</td>\n",
       "      <td>82</td>\n",
       "      <td>1</td>\n",
       "      <td>chevrolet camaro</td>\n",
       "    </tr>\n",
       "    <tr>\n",
       "      <th>387</th>\n",
       "      <td>27.0</td>\n",
       "      <td>4</td>\n",
       "      <td>140.0</td>\n",
       "      <td>86</td>\n",
       "      <td>2790</td>\n",
       "      <td>15.6</td>\n",
       "      <td>82</td>\n",
       "      <td>1</td>\n",
       "      <td>ford mustang gl</td>\n",
       "    </tr>\n",
       "    <tr>\n",
       "      <th>388</th>\n",
       "      <td>44.0</td>\n",
       "      <td>4</td>\n",
       "      <td>97.0</td>\n",
       "      <td>52</td>\n",
       "      <td>2130</td>\n",
       "      <td>24.6</td>\n",
       "      <td>82</td>\n",
       "      <td>2</td>\n",
       "      <td>vw pickup</td>\n",
       "    </tr>\n",
       "    <tr>\n",
       "      <th>389</th>\n",
       "      <td>32.0</td>\n",
       "      <td>4</td>\n",
       "      <td>135.0</td>\n",
       "      <td>84</td>\n",
       "      <td>2295</td>\n",
       "      <td>11.6</td>\n",
       "      <td>82</td>\n",
       "      <td>1</td>\n",
       "      <td>dodge rampage</td>\n",
       "    </tr>\n",
       "    <tr>\n",
       "      <th>390</th>\n",
       "      <td>28.0</td>\n",
       "      <td>4</td>\n",
       "      <td>120.0</td>\n",
       "      <td>79</td>\n",
       "      <td>2625</td>\n",
       "      <td>18.6</td>\n",
       "      <td>82</td>\n",
       "      <td>1</td>\n",
       "      <td>ford ranger</td>\n",
       "    </tr>\n",
       "    <tr>\n",
       "      <th>391</th>\n",
       "      <td>31.0</td>\n",
       "      <td>4</td>\n",
       "      <td>119.0</td>\n",
       "      <td>82</td>\n",
       "      <td>2720</td>\n",
       "      <td>19.4</td>\n",
       "      <td>82</td>\n",
       "      <td>1</td>\n",
       "      <td>chevy s-10</td>\n",
       "    </tr>\n",
       "  </tbody>\n",
       "</table>\n",
       "</div>"
      ],
      "text/plain": [
       "      mpg  cylinders  displacement  horsepower  weight  acceleration  year  \\\n",
       "334  27.2          4         135.0          84    2490          15.7    81   \n",
       "335  26.6          4         151.0          84    2635          16.4    81   \n",
       "336  25.8          4         156.0          92    2620          14.4    81   \n",
       "337  23.5          6         173.0         110    2725          12.6    81   \n",
       "338  30.0          4         135.0          84    2385          12.9    81   \n",
       "339  39.1          4          79.0          58    1755          16.9    81   \n",
       "340  39.0          4          86.0          64    1875          16.4    81   \n",
       "341  35.1          4          81.0          60    1760          16.1    81   \n",
       "342  32.3          4          97.0          67    2065          17.8    81   \n",
       "343  37.0          4          85.0          65    1975          19.4    81   \n",
       "344  37.7          4          89.0          62    2050          17.3    81   \n",
       "345  34.1          4          91.0          68    1985          16.0    81   \n",
       "346  34.7          4         105.0          63    2215          14.9    81   \n",
       "347  34.4          4          98.0          65    2045          16.2    81   \n",
       "348  29.9          4          98.0          65    2380          20.7    81   \n",
       "349  33.0          4         105.0          74    2190          14.2    81   \n",
       "350  33.7          4         107.0          75    2210          14.4    81   \n",
       "351  32.4          4         108.0          75    2350          16.8    81   \n",
       "352  32.9          4         119.0         100    2615          14.8    81   \n",
       "353  31.6          4         120.0          74    2635          18.3    81   \n",
       "354  28.1          4         141.0          80    3230          20.4    81   \n",
       "355  30.7          6         145.0          76    3160          19.6    81   \n",
       "356  25.4          6         168.0         116    2900          12.6    81   \n",
       "357  24.2          6         146.0         120    2930          13.8    81   \n",
       "358  22.4          6         231.0         110    3415          15.8    81   \n",
       "359  26.6          8         350.0         105    3725          19.0    81   \n",
       "360  20.2          6         200.0          88    3060          17.1    81   \n",
       "361  17.6          6         225.0          85    3465          16.6    81   \n",
       "362  28.0          4         112.0          88    2605          19.6    82   \n",
       "363  27.0          4         112.0          88    2640          18.6    82   \n",
       "364  34.0          4         112.0          88    2395          18.0    82   \n",
       "365  31.0          4         112.0          85    2575          16.2    82   \n",
       "366  29.0          4         135.0          84    2525          16.0    82   \n",
       "367  27.0          4         151.0          90    2735          18.0    82   \n",
       "368  24.0          4         140.0          92    2865          16.4    82   \n",
       "369  36.0          4         105.0          74    1980          15.3    82   \n",
       "370  37.0          4          91.0          68    2025          18.2    82   \n",
       "371  31.0          4          91.0          68    1970          17.6    82   \n",
       "372  38.0          4         105.0          63    2125          14.7    82   \n",
       "373  36.0          4          98.0          70    2125          17.3    82   \n",
       "374  36.0          4         120.0          88    2160          14.5    82   \n",
       "375  36.0          4         107.0          75    2205          14.5    82   \n",
       "376  34.0          4         108.0          70    2245          16.9    82   \n",
       "377  38.0          4          91.0          67    1965          15.0    82   \n",
       "378  32.0          4          91.0          67    1965          15.7    82   \n",
       "379  38.0          4          91.0          67    1995          16.2    82   \n",
       "380  25.0          6         181.0         110    2945          16.4    82   \n",
       "381  38.0          6         262.0          85    3015          17.0    82   \n",
       "382  26.0          4         156.0          92    2585          14.5    82   \n",
       "383  22.0          6         232.0         112    2835          14.7    82   \n",
       "384  32.0          4         144.0          96    2665          13.9    82   \n",
       "385  36.0          4         135.0          84    2370          13.0    82   \n",
       "386  27.0          4         151.0          90    2950          17.3    82   \n",
       "387  27.0          4         140.0          86    2790          15.6    82   \n",
       "388  44.0          4          97.0          52    2130          24.6    82   \n",
       "389  32.0          4         135.0          84    2295          11.6    82   \n",
       "390  28.0          4         120.0          79    2625          18.6    82   \n",
       "391  31.0          4         119.0          82    2720          19.4    82   \n",
       "\n",
       "     origin                               name  \n",
       "334       1                   plymouth reliant  \n",
       "335       1                      buick skylark  \n",
       "336       1             dodge aries wagon (sw)  \n",
       "337       1                 chevrolet citation  \n",
       "338       1                   plymouth reliant  \n",
       "339       3                     toyota starlet  \n",
       "340       1                     plymouth champ  \n",
       "341       3                   honda civic 1300  \n",
       "342       3                             subaru  \n",
       "343       3                     datsun 210 mpg  \n",
       "344       3                      toyota tercel  \n",
       "345       3                        mazda glc 4  \n",
       "346       1                 plymouth horizon 4  \n",
       "347       1                     ford escort 4w  \n",
       "348       1                     ford escort 2h  \n",
       "349       2                   volkswagen jetta  \n",
       "350       3                      honda prelude  \n",
       "351       3                     toyota corolla  \n",
       "352       3                       datsun 200sx  \n",
       "353       3                          mazda 626  \n",
       "354       2          peugeot 505s turbo diesel  \n",
       "355       2                       volvo diesel  \n",
       "356       3                    toyota cressida  \n",
       "357       3                  datsun 810 maxima  \n",
       "358       1                      buick century  \n",
       "359       1              oldsmobile cutlass ls  \n",
       "360       1                    ford granada gl  \n",
       "361       1             chrysler lebaron salon  \n",
       "362       1                 chevrolet cavalier  \n",
       "363       1           chevrolet cavalier wagon  \n",
       "364       1          chevrolet cavalier 2-door  \n",
       "365       1         pontiac j2000 se hatchback  \n",
       "366       1                     dodge aries se  \n",
       "367       1                    pontiac phoenix  \n",
       "368       1               ford fairmont futura  \n",
       "369       2                volkswagen rabbit l  \n",
       "370       3                 mazda glc custom l  \n",
       "371       3                   mazda glc custom  \n",
       "372       1             plymouth horizon miser  \n",
       "373       1                     mercury lynx l  \n",
       "374       3                   nissan stanza xe  \n",
       "375       3                       honda accord  \n",
       "376       3                     toyota corolla  \n",
       "377       3                        honda civic  \n",
       "378       3                 honda civic (auto)  \n",
       "379       3                      datsun 310 gx  \n",
       "380       1              buick century limited  \n",
       "381       1  oldsmobile cutlass ciera (diesel)  \n",
       "382       1         chrysler lebaron medallion  \n",
       "383       1                     ford granada l  \n",
       "384       3                   toyota celica gt  \n",
       "385       1                  dodge charger 2.2  \n",
       "386       1                   chevrolet camaro  \n",
       "387       1                    ford mustang gl  \n",
       "388       2                          vw pickup  \n",
       "389       1                      dodge rampage  \n",
       "390       1                        ford ranger  \n",
       "391       1                         chevy s-10  "
      ]
     },
     "execution_count": 84,
     "metadata": {},
     "output_type": "execute_result"
    }
   ],
   "source": [
    "idx_80 = Auto['year'] > 80\n",
    "Auto[idx_80]"
   ]
  },
  {
   "cell_type": "markdown",
   "id": "7bb902a8-23d4-45cf-9ee8-7f46226ff56e",
   "metadata": {},
   "source": [
    "Have a look at a *subset* of columns. "
   ]
  },
  {
   "cell_type": "code",
   "execution_count": 85,
   "id": "5733855a-3365-4a04-aca1-c346e3705df0",
   "metadata": {},
   "outputs": [
    {
     "data": {
      "text/html": [
       "<div>\n",
       "<style scoped>\n",
       "    .dataframe tbody tr th:only-of-type {\n",
       "        vertical-align: middle;\n",
       "    }\n",
       "\n",
       "    .dataframe tbody tr th {\n",
       "        vertical-align: top;\n",
       "    }\n",
       "\n",
       "    .dataframe thead th {\n",
       "        text-align: right;\n",
       "    }\n",
       "</style>\n",
       "<table border=\"1\" class=\"dataframe\">\n",
       "  <thead>\n",
       "    <tr style=\"text-align: right;\">\n",
       "      <th></th>\n",
       "      <th>mpg</th>\n",
       "      <th>year</th>\n",
       "    </tr>\n",
       "  </thead>\n",
       "  <tbody>\n",
       "    <tr>\n",
       "      <th>0</th>\n",
       "      <td>18.0</td>\n",
       "      <td>70</td>\n",
       "    </tr>\n",
       "    <tr>\n",
       "      <th>1</th>\n",
       "      <td>15.0</td>\n",
       "      <td>70</td>\n",
       "    </tr>\n",
       "    <tr>\n",
       "      <th>2</th>\n",
       "      <td>18.0</td>\n",
       "      <td>70</td>\n",
       "    </tr>\n",
       "    <tr>\n",
       "      <th>3</th>\n",
       "      <td>16.0</td>\n",
       "      <td>70</td>\n",
       "    </tr>\n",
       "    <tr>\n",
       "      <th>4</th>\n",
       "      <td>17.0</td>\n",
       "      <td>70</td>\n",
       "    </tr>\n",
       "    <tr>\n",
       "      <th>...</th>\n",
       "      <td>...</td>\n",
       "      <td>...</td>\n",
       "    </tr>\n",
       "    <tr>\n",
       "      <th>387</th>\n",
       "      <td>27.0</td>\n",
       "      <td>82</td>\n",
       "    </tr>\n",
       "    <tr>\n",
       "      <th>388</th>\n",
       "      <td>44.0</td>\n",
       "      <td>82</td>\n",
       "    </tr>\n",
       "    <tr>\n",
       "      <th>389</th>\n",
       "      <td>32.0</td>\n",
       "      <td>82</td>\n",
       "    </tr>\n",
       "    <tr>\n",
       "      <th>390</th>\n",
       "      <td>28.0</td>\n",
       "      <td>82</td>\n",
       "    </tr>\n",
       "    <tr>\n",
       "      <th>391</th>\n",
       "      <td>31.0</td>\n",
       "      <td>82</td>\n",
       "    </tr>\n",
       "  </tbody>\n",
       "</table>\n",
       "<p>392 rows × 2 columns</p>\n",
       "</div>"
      ],
      "text/plain": [
       "      mpg  year\n",
       "0    18.0    70\n",
       "1    15.0    70\n",
       "2    18.0    70\n",
       "3    16.0    70\n",
       "4    17.0    70\n",
       "..    ...   ...\n",
       "387  27.0    82\n",
       "388  44.0    82\n",
       "389  32.0    82\n",
       "390  28.0    82\n",
       "391  31.0    82\n",
       "\n",
       "[392 rows x 2 columns]"
      ]
     },
     "execution_count": 85,
     "metadata": {},
     "output_type": "execute_result"
    }
   ],
   "source": [
    "Auto[['mpg', 'year']]"
   ]
  },
  {
   "cell_type": "code",
   "execution_count": null,
   "id": "eb1b40d0-152e-4bde-be6e-0e9815316f8b",
   "metadata": {},
   "outputs": [],
   "source": [
    "Auto.index"
   ]
  },
  {
   "cell_type": "markdown",
   "id": "f234fc08-2d0f-47af-9bd3-9dd8bd39c225",
   "metadata": {},
   "source": [
    "As you can see, the first column at the left is the row index, here labeled from 0 to 392. Next, we will rename the index using the content of the name column."
   ]
  },
  {
   "cell_type": "code",
   "execution_count": 86,
   "id": "39260490-b298-4c27-98a7-7e8e0a2b6c86",
   "metadata": {},
   "outputs": [
    {
     "data": {
      "text/html": [
       "<div>\n",
       "<style scoped>\n",
       "    .dataframe tbody tr th:only-of-type {\n",
       "        vertical-align: middle;\n",
       "    }\n",
       "\n",
       "    .dataframe tbody tr th {\n",
       "        vertical-align: top;\n",
       "    }\n",
       "\n",
       "    .dataframe thead th {\n",
       "        text-align: right;\n",
       "    }\n",
       "</style>\n",
       "<table border=\"1\" class=\"dataframe\">\n",
       "  <thead>\n",
       "    <tr style=\"text-align: right;\">\n",
       "      <th></th>\n",
       "      <th>mpg</th>\n",
       "      <th>cylinders</th>\n",
       "      <th>displacement</th>\n",
       "      <th>horsepower</th>\n",
       "      <th>weight</th>\n",
       "      <th>acceleration</th>\n",
       "      <th>year</th>\n",
       "      <th>origin</th>\n",
       "    </tr>\n",
       "    <tr>\n",
       "      <th>name</th>\n",
       "      <th></th>\n",
       "      <th></th>\n",
       "      <th></th>\n",
       "      <th></th>\n",
       "      <th></th>\n",
       "      <th></th>\n",
       "      <th></th>\n",
       "      <th></th>\n",
       "    </tr>\n",
       "  </thead>\n",
       "  <tbody>\n",
       "    <tr>\n",
       "      <th>chevrolet chevelle malibu</th>\n",
       "      <td>18.0</td>\n",
       "      <td>8</td>\n",
       "      <td>307.0</td>\n",
       "      <td>130</td>\n",
       "      <td>3504</td>\n",
       "      <td>12.0</td>\n",
       "      <td>70</td>\n",
       "      <td>1</td>\n",
       "    </tr>\n",
       "    <tr>\n",
       "      <th>buick skylark 320</th>\n",
       "      <td>15.0</td>\n",
       "      <td>8</td>\n",
       "      <td>350.0</td>\n",
       "      <td>165</td>\n",
       "      <td>3693</td>\n",
       "      <td>11.5</td>\n",
       "      <td>70</td>\n",
       "      <td>1</td>\n",
       "    </tr>\n",
       "    <tr>\n",
       "      <th>plymouth satellite</th>\n",
       "      <td>18.0</td>\n",
       "      <td>8</td>\n",
       "      <td>318.0</td>\n",
       "      <td>150</td>\n",
       "      <td>3436</td>\n",
       "      <td>11.0</td>\n",
       "      <td>70</td>\n",
       "      <td>1</td>\n",
       "    </tr>\n",
       "    <tr>\n",
       "      <th>amc rebel sst</th>\n",
       "      <td>16.0</td>\n",
       "      <td>8</td>\n",
       "      <td>304.0</td>\n",
       "      <td>150</td>\n",
       "      <td>3433</td>\n",
       "      <td>12.0</td>\n",
       "      <td>70</td>\n",
       "      <td>1</td>\n",
       "    </tr>\n",
       "    <tr>\n",
       "      <th>ford torino</th>\n",
       "      <td>17.0</td>\n",
       "      <td>8</td>\n",
       "      <td>302.0</td>\n",
       "      <td>140</td>\n",
       "      <td>3449</td>\n",
       "      <td>10.5</td>\n",
       "      <td>70</td>\n",
       "      <td>1</td>\n",
       "    </tr>\n",
       "    <tr>\n",
       "      <th>...</th>\n",
       "      <td>...</td>\n",
       "      <td>...</td>\n",
       "      <td>...</td>\n",
       "      <td>...</td>\n",
       "      <td>...</td>\n",
       "      <td>...</td>\n",
       "      <td>...</td>\n",
       "      <td>...</td>\n",
       "    </tr>\n",
       "    <tr>\n",
       "      <th>ford mustang gl</th>\n",
       "      <td>27.0</td>\n",
       "      <td>4</td>\n",
       "      <td>140.0</td>\n",
       "      <td>86</td>\n",
       "      <td>2790</td>\n",
       "      <td>15.6</td>\n",
       "      <td>82</td>\n",
       "      <td>1</td>\n",
       "    </tr>\n",
       "    <tr>\n",
       "      <th>vw pickup</th>\n",
       "      <td>44.0</td>\n",
       "      <td>4</td>\n",
       "      <td>97.0</td>\n",
       "      <td>52</td>\n",
       "      <td>2130</td>\n",
       "      <td>24.6</td>\n",
       "      <td>82</td>\n",
       "      <td>2</td>\n",
       "    </tr>\n",
       "    <tr>\n",
       "      <th>dodge rampage</th>\n",
       "      <td>32.0</td>\n",
       "      <td>4</td>\n",
       "      <td>135.0</td>\n",
       "      <td>84</td>\n",
       "      <td>2295</td>\n",
       "      <td>11.6</td>\n",
       "      <td>82</td>\n",
       "      <td>1</td>\n",
       "    </tr>\n",
       "    <tr>\n",
       "      <th>ford ranger</th>\n",
       "      <td>28.0</td>\n",
       "      <td>4</td>\n",
       "      <td>120.0</td>\n",
       "      <td>79</td>\n",
       "      <td>2625</td>\n",
       "      <td>18.6</td>\n",
       "      <td>82</td>\n",
       "      <td>1</td>\n",
       "    </tr>\n",
       "    <tr>\n",
       "      <th>chevy s-10</th>\n",
       "      <td>31.0</td>\n",
       "      <td>4</td>\n",
       "      <td>119.0</td>\n",
       "      <td>82</td>\n",
       "      <td>2720</td>\n",
       "      <td>19.4</td>\n",
       "      <td>82</td>\n",
       "      <td>1</td>\n",
       "    </tr>\n",
       "  </tbody>\n",
       "</table>\n",
       "<p>392 rows × 8 columns</p>\n",
       "</div>"
      ],
      "text/plain": [
       "                            mpg  cylinders  displacement  horsepower  weight  \\\n",
       "name                                                                           \n",
       "chevrolet chevelle malibu  18.0          8         307.0         130    3504   \n",
       "buick skylark 320          15.0          8         350.0         165    3693   \n",
       "plymouth satellite         18.0          8         318.0         150    3436   \n",
       "amc rebel sst              16.0          8         304.0         150    3433   \n",
       "ford torino                17.0          8         302.0         140    3449   \n",
       "...                         ...        ...           ...         ...     ...   \n",
       "ford mustang gl            27.0          4         140.0          86    2790   \n",
       "vw pickup                  44.0          4          97.0          52    2130   \n",
       "dodge rampage              32.0          4         135.0          84    2295   \n",
       "ford ranger                28.0          4         120.0          79    2625   \n",
       "chevy s-10                 31.0          4         119.0          82    2720   \n",
       "\n",
       "                           acceleration  year  origin  \n",
       "name                                                   \n",
       "chevrolet chevelle malibu          12.0    70       1  \n",
       "buick skylark 320                  11.5    70       1  \n",
       "plymouth satellite                 11.0    70       1  \n",
       "amc rebel sst                      12.0    70       1  \n",
       "ford torino                        10.5    70       1  \n",
       "...                                 ...   ...     ...  \n",
       "ford mustang gl                    15.6    82       1  \n",
       "vw pickup                          24.6    82       2  \n",
       "dodge rampage                      11.6    82       1  \n",
       "ford ranger                        18.6    82       1  \n",
       "chevy s-10                         19.4    82       1  \n",
       "\n",
       "[392 rows x 8 columns]"
      ]
     },
     "execution_count": 86,
     "metadata": {},
     "output_type": "execute_result"
    }
   ],
   "source": [
    "Auto_re = Auto.set_index('name')\n",
    "Auto_re"
   ]
  },
  {
   "cell_type": "markdown",
   "id": "1687f80c-9d3b-4b47-bc20-b8e77bc1cdfe",
   "metadata": {},
   "source": [
    "We can now access rows of the data by `name`"
   ]
  },
  {
   "cell_type": "code",
   "execution_count": 87,
   "id": "efe6e493-6bc3-43fa-a75b-bf217fbc86e1",
   "metadata": {},
   "outputs": [
    {
     "data": {
      "text/html": [
       "<div>\n",
       "<style scoped>\n",
       "    .dataframe tbody tr th:only-of-type {\n",
       "        vertical-align: middle;\n",
       "    }\n",
       "\n",
       "    .dataframe tbody tr th {\n",
       "        vertical-align: top;\n",
       "    }\n",
       "\n",
       "    .dataframe thead th {\n",
       "        text-align: right;\n",
       "    }\n",
       "</style>\n",
       "<table border=\"1\" class=\"dataframe\">\n",
       "  <thead>\n",
       "    <tr style=\"text-align: right;\">\n",
       "      <th></th>\n",
       "      <th>mpg</th>\n",
       "      <th>cylinders</th>\n",
       "      <th>displacement</th>\n",
       "      <th>horsepower</th>\n",
       "      <th>weight</th>\n",
       "      <th>acceleration</th>\n",
       "      <th>year</th>\n",
       "      <th>origin</th>\n",
       "    </tr>\n",
       "    <tr>\n",
       "      <th>name</th>\n",
       "      <th></th>\n",
       "      <th></th>\n",
       "      <th></th>\n",
       "      <th></th>\n",
       "      <th></th>\n",
       "      <th></th>\n",
       "      <th></th>\n",
       "      <th></th>\n",
       "    </tr>\n",
       "  </thead>\n",
       "  <tbody>\n",
       "    <tr>\n",
       "      <th>amc rebel sst</th>\n",
       "      <td>16.0</td>\n",
       "      <td>8</td>\n",
       "      <td>304.0</td>\n",
       "      <td>150</td>\n",
       "      <td>3433</td>\n",
       "      <td>12.0</td>\n",
       "      <td>70</td>\n",
       "      <td>1</td>\n",
       "    </tr>\n",
       "    <tr>\n",
       "      <th>ford torino</th>\n",
       "      <td>17.0</td>\n",
       "      <td>8</td>\n",
       "      <td>302.0</td>\n",
       "      <td>140</td>\n",
       "      <td>3449</td>\n",
       "      <td>10.5</td>\n",
       "      <td>70</td>\n",
       "      <td>1</td>\n",
       "    </tr>\n",
       "  </tbody>\n",
       "</table>\n",
       "</div>"
      ],
      "text/plain": [
       "                mpg  cylinders  displacement  horsepower  weight  \\\n",
       "name                                                               \n",
       "amc rebel sst  16.0          8         304.0         150    3433   \n",
       "ford torino    17.0          8         302.0         140    3449   \n",
       "\n",
       "               acceleration  year  origin  \n",
       "name                                       \n",
       "amc rebel sst          12.0    70       1  \n",
       "ford torino            10.5    70       1  "
      ]
     },
     "execution_count": 87,
     "metadata": {},
     "output_type": "execute_result"
    }
   ],
   "source": [
    "rows = ['amc rebel sst', 'ford torino']\n",
    "Auto_re.loc[rows]"
   ]
  },
  {
   "cell_type": "markdown",
   "id": "b480dc6e-70df-491d-8f3d-766e59c2f0a9",
   "metadata": {},
   "source": [
    "We can extract the 4th and 5th rows, as well as the 1st, 3rd and 4th columns, using a single call to iloc[]:"
   ]
  },
  {
   "cell_type": "code",
   "execution_count": 88,
   "id": "6e585451-32d3-476a-bfa5-42f661c2723b",
   "metadata": {},
   "outputs": [
    {
     "data": {
      "text/html": [
       "<div>\n",
       "<style scoped>\n",
       "    .dataframe tbody tr th:only-of-type {\n",
       "        vertical-align: middle;\n",
       "    }\n",
       "\n",
       "    .dataframe tbody tr th {\n",
       "        vertical-align: top;\n",
       "    }\n",
       "\n",
       "    .dataframe thead th {\n",
       "        text-align: right;\n",
       "    }\n",
       "</style>\n",
       "<table border=\"1\" class=\"dataframe\">\n",
       "  <thead>\n",
       "    <tr style=\"text-align: right;\">\n",
       "      <th></th>\n",
       "      <th>mpg</th>\n",
       "      <th>displacement</th>\n",
       "      <th>horsepower</th>\n",
       "    </tr>\n",
       "    <tr>\n",
       "      <th>name</th>\n",
       "      <th></th>\n",
       "      <th></th>\n",
       "      <th></th>\n",
       "    </tr>\n",
       "  </thead>\n",
       "  <tbody>\n",
       "    <tr>\n",
       "      <th>amc rebel sst</th>\n",
       "      <td>16.0</td>\n",
       "      <td>304.0</td>\n",
       "      <td>150</td>\n",
       "    </tr>\n",
       "    <tr>\n",
       "      <th>ford torino</th>\n",
       "      <td>17.0</td>\n",
       "      <td>302.0</td>\n",
       "      <td>140</td>\n",
       "    </tr>\n",
       "  </tbody>\n",
       "</table>\n",
       "</div>"
      ],
      "text/plain": [
       "                mpg  displacement  horsepower\n",
       "name                                         \n",
       "amc rebel sst  16.0         304.0         150\n",
       "ford torino    17.0         302.0         140"
      ]
     },
     "execution_count": 88,
     "metadata": {},
     "output_type": "execute_result"
    }
   ],
   "source": [
    "Auto_re.iloc[[3,4],[0,2,3]]\n"
   ]
  },
  {
   "cell_type": "markdown",
   "id": "16b4a554-fad5-4114-9415-d47bb41d9af3",
   "metadata": {},
   "source": [
    "Suppose now that we want to create a data frame consisting of the `weight` and `origin` of the subset of cars with year greater than 80. We first create a Boolean array that indexes the rows. The `loc[]` method allows for Boolean entries as well as strings:"
   ]
  },
  {
   "cell_type": "code",
   "execution_count": null,
   "id": "5b8492a2-b914-46ef-bf19-4e5d5144dc3d",
   "metadata": {},
   "outputs": [],
   "source": [
    "idx_80 = Auto_re['year'] > 80\n",
    "Auto_re.loc[idx_80, ['weight', 'origin']]"
   ]
  },
  {
   "cell_type": "markdown",
   "id": "74a5d0b8-8388-4d70-af3b-c736a964f5e1",
   "metadata": {},
   "source": [
    "An alternative way is to use an anonymous function called a `lambda` function. This  creates a function that takes a single argument, `df`, and returns `df['year']>80`. As it is created inside `loc[]` for the dataframe `Auto_re`. "
   ]
  },
  {
   "cell_type": "code",
   "execution_count": null,
   "id": "932c4a41-853b-49a4-9579-1a239a49ba44",
   "metadata": {},
   "outputs": [],
   "source": [
    "Auto_re.loc[lambda df: df['year'] > 80, ['weight', 'origin']]"
   ]
  },
  {
   "cell_type": "markdown",
   "id": "d4c5d243-6e13-49de-a937-5be45ff4de16",
   "metadata": {},
   "source": [
    "The symbol `&` computes an element-wise *and* operation, `| `for an *or* operation. As another example, suppose that we want to retrieve all `Ford` and `Datsun` cars with `displacement` less than 300. We check whether each `name` entry contains either the string `ford` or `datsun` using the `str.contains()` method of the `index` attribute of of the dataframe:"
   ]
  },
  {
   "cell_type": "code",
   "execution_count": null,
   "id": "448a6e19-b5ec-423f-bf72-783b5f2934fd",
   "metadata": {},
   "outputs": [],
   "source": [
    "Auto_re.loc[lambda df: (df['displacement'] < 300)\n",
    "                       & (df.index.str.contains('ford')\n",
    "                       | df.index.str.contains('datsun')),\n",
    "            ['weight', 'origin']\n",
    "           ]"
   ]
  },
  {
   "cell_type": "markdown",
   "id": "22e16405",
   "metadata": {},
   "source": [
    "## Flow control"
   ]
  },
  {
   "cell_type": "code",
   "execution_count": 89,
   "id": "97d4bba0",
   "metadata": {},
   "outputs": [
    {
     "data": {
      "text/plain": [
       "range(0, 10)"
      ]
     },
     "execution_count": 89,
     "metadata": {},
     "output_type": "execute_result"
    }
   ],
   "source": [
    "a = range(10)\n",
    "a"
   ]
  },
  {
   "cell_type": "code",
   "execution_count": 90,
   "id": "4bdf623f",
   "metadata": {},
   "outputs": [
    {
     "data": {
      "text/plain": [
       "[0, 1, 2, 3, 4, 5, 6, 7, 8, 9]"
      ]
     },
     "execution_count": 90,
     "metadata": {},
     "output_type": "execute_result"
    }
   ],
   "source": [
    "list(a)"
   ]
  },
  {
   "cell_type": "markdown",
   "id": "dd2aabca",
   "metadata": {},
   "source": [
    "### For loop"
   ]
  },
  {
   "cell_type": "code",
   "execution_count": 92,
   "id": "7ae4e6e2",
   "metadata": {},
   "outputs": [
    {
     "name": "stdout",
     "output_type": "stream",
     "text": [
      "0\n",
      "1\n",
      "2\n",
      "3\n",
      "4\n",
      "5\n",
      "6\n",
      "7\n",
      "8\n",
      "9\n"
     ]
    }
   ],
   "source": [
    "for k in a:\n",
    "    print(k)"
   ]
  },
  {
   "cell_type": "code",
   "execution_count": 95,
   "id": "e04b2339",
   "metadata": {},
   "outputs": [
    {
     "name": "stdout",
     "output_type": "stream",
     "text": [
      "0\n",
      "1\n",
      "2\n",
      "3\n",
      "4\n",
      "5\n",
      "6\n",
      "7\n",
      "8\n",
      "9\n"
     ]
    }
   ],
   "source": [
    "k = 0\n",
    "while k <10:\n",
    "    print(k) #print the value of k for that iteration\n",
    "    k +=1    # increment the value of k"
   ]
  },
  {
   "cell_type": "markdown",
   "id": "ea0f7f24",
   "metadata": {},
   "source": [
    "### If else"
   ]
  },
  {
   "cell_type": "code",
   "execution_count": 98,
   "id": "2ba94943",
   "metadata": {},
   "outputs": [
    {
     "name": "stdout",
     "output_type": "stream",
     "text": [
      "0 is divisible by 2 and by 3\n",
      "1 is neither divisible by 2 nor by 3\n",
      "2 is divisible by 2\n",
      "3 is divisible by 3\n",
      "4 is divisible by 2\n",
      "5 is neither divisible by 2 nor by 3\n",
      "6 is divisible by 2 and by 3\n",
      "7 is neither divisible by 2 nor by 3\n",
      "8 is divisible by 2\n",
      "9 is divisible by 3\n"
     ]
    }
   ],
   "source": [
    "k = 0\n",
    "while k < 10:\n",
    "    if k%2 == 0 and k%3 == 0: # k%2 means the remainder of this division\n",
    "        print(\"%s is divisible by 2 and by 3\" % k)\n",
    "    elif k%2 == 0:\n",
    "        print(\"%d is divisible by 2\" % k)\n",
    "    elif k%3 == 0:\n",
    "        print(\"{} is divisible by 3\".format(k))\n",
    "    else:\n",
    "       print(f\"{k} is neither divisible by 2 nor by 3\")\n",
    "    k += 1"
   ]
  },
  {
   "cell_type": "code",
   "execution_count": null,
   "id": "b5abc9e4",
   "metadata": {},
   "outputs": [],
   "source": [
    "k = 0\n",
    "while k < 10:\n",
    "    if k%2 == 0 and k%3 == 0: # k%2 means the reminder of this division\n",
    "        print(\"%s is divisible by 2 and by 3\" % k)\n",
    "    elif k%2 == 0:\n",
    "        print(\"%d is divisible by 2\" % k) #just the number divisible by 2\n",
    "    #elif k%3 == 0:\n",
    "    #    print(\"{} is divisible by 3\".format(k))\n",
    "    #else:\n",
    "     #   print(f\"{k} is neither divisible by 2 nor by 3\")\n",
    "    k += 1"
   ]
  },
  {
   "cell_type": "markdown",
   "id": "1fd80aee",
   "metadata": {},
   "source": [
    "### Enumerate\n",
    "Here is how to do _standard_ loops where you refer to an element of a list with an index but using the enumerate() method"
   ]
  },
  {
   "cell_type": "code",
   "execution_count": null,
   "id": "ddb379d1",
   "metadata": {},
   "outputs": [],
   "source": [
    "a = ['python', 'is', 'so', 'easy', '!']\n",
    "a2 = ['one', 'two', 'three', 'four', 'five']\n"
   ]
  },
  {
   "cell_type": "markdown",
   "id": "897621c3",
   "metadata": {},
   "source": [
    "1st row: Ask to take the elements in the enumerate of a (first list) in the order of the list ; then we also ask to add the index of each element (the position in the list); also do it for a2\n",
    " "
   ]
  },
  {
   "cell_type": "code",
   "execution_count": null,
   "id": "c96ea0e0",
   "metadata": {},
   "outputs": [],
   "source": [
    "for idx, el in enumerate(a): \n",
    "    print(idx, a[idx], a2[idx])"
   ]
  },
  {
   "cell_type": "markdown",
   "id": "9ba36914",
   "metadata": {},
   "source": [
    "## Functions\n",
    "Functions are useful tools if we plan to do a task many times"
   ]
  },
  {
   "cell_type": "code",
   "execution_count": 106,
   "id": "9763e373",
   "metadata": {},
   "outputs": [],
   "source": [
    "def power_y(x, y = 2): #add_two = name of the function ; (x) = the argument\n",
    "    return x ** y #this is what the function does"
   ]
  },
  {
   "cell_type": "code",
   "execution_count": 107,
   "id": "1da662db",
   "metadata": {},
   "outputs": [
    {
     "data": {
      "text/plain": [
       "64"
      ]
     },
     "execution_count": 107,
     "metadata": {},
     "output_type": "execute_result"
    }
   ],
   "source": [
    "power_y(4, y = 3)"
   ]
  },
  {
   "cell_type": "code",
   "execution_count": null,
   "id": "f019a28d",
   "metadata": {},
   "outputs": [],
   "source": [
    "def hello():\n",
    "    print('Hello World')"
   ]
  },
  {
   "cell_type": "code",
   "execution_count": null,
   "id": "fb392837",
   "metadata": {},
   "outputs": [],
   "source": [
    "hello()"
   ]
  },
  {
   "cell_type": "code",
   "execution_count": null,
   "id": "61266206",
   "metadata": {},
   "outputs": [],
   "source": [
    "n=add_two(10)\n",
    "n"
   ]
  },
  {
   "cell_type": "markdown",
   "id": "0828f964-30d9-4e16-b865-53d7054227e4",
   "metadata": {},
   "source": [
    "## Exercise\n",
    "\n",
    "1. Upload the Vahatra_defor_noNA database from Moodle.\n",
    "2. Print it.\n",
    "3. Display the list of all column names.\n",
    "4. Shorten the column names which end with the suffix \"-01-01_treecover_ha\".\n",
    "5. Compute the average deforestation rate over the period 2010-2020 and assign it to a new column.\n",
    "6. Create a scatter plot of the deforestation rate and the initial forested area of the protected areas.\n",
    "7. Create a scatter plot of the deforestation rate and the distance to the closest city."
   ]
  },
  {
   "cell_type": "code",
   "execution_count": 108,
   "id": "3e7166be-e298-4109-957f-c72eda134162",
   "metadata": {},
   "outputs": [],
   "source": [
    "#Type your answers in several cells here"
   ]
  }
 ],
 "metadata": {
  "kernelspec": {
   "display_name": "Python 3 (ipykernel)",
   "language": "python",
   "name": "python3"
  },
  "language_info": {
   "codemirror_mode": {
    "name": "ipython",
    "version": 3
   },
   "file_extension": ".py",
   "mimetype": "text/x-python",
   "name": "python",
   "nbconvert_exporter": "python",
   "pygments_lexer": "ipython3",
   "version": "3.13.7"
  }
 },
 "nbformat": 4,
 "nbformat_minor": 5
}
